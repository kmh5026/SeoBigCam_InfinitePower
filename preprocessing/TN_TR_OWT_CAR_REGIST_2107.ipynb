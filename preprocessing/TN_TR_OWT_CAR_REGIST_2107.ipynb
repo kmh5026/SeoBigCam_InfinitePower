{
 "cells": [
  {
   "cell_type": "code",
   "execution_count": 1,
   "id": "91279590",
   "metadata": {},
   "outputs": [],
   "source": [
    "import numpy as np \n",
    "import pandas as pd "
   ]
  },
  {
   "cell_type": "code",
   "execution_count": 2,
   "id": "ea92a481",
   "metadata": {},
   "outputs": [
    {
     "data": {
      "text/plain": [
       "'/Users/kimmh/Desktop/서데캠'"
      ]
     },
     "execution_count": 2,
     "metadata": {},
     "output_type": "execute_result"
    }
   ],
   "source": [
    "import os \n",
    "os.chdir('/Users/kimmh/Desktop/서데캠/')\n",
    "os.getcwd()"
   ]
  },
  {
   "cell_type": "code",
   "execution_count": 3,
   "id": "1d858931",
   "metadata": {},
   "outputs": [
    {
     "data": {
      "text/html": [
       "<div>\n",
       "<style scoped>\n",
       "    .dataframe tbody tr th:only-of-type {\n",
       "        vertical-align: middle;\n",
       "    }\n",
       "\n",
       "    .dataframe tbody tr th {\n",
       "        vertical-align: top;\n",
       "    }\n",
       "\n",
       "    .dataframe thead th {\n",
       "        text-align: right;\n",
       "    }\n",
       "</style>\n",
       "<table border=\"1\" class=\"dataframe\">\n",
       "  <thead>\n",
       "    <tr style=\"text-align: right;\">\n",
       "      <th></th>\n",
       "      <th>`regist_ym`</th>\n",
       "      <th>`fuel_knd_nm`</th>\n",
       "      <th>`vhcle_knd_ty`</th>\n",
       "      <th>`vhcle_prpos_se`</th>\n",
       "      <th>`cnt`</th>\n",
       "      <th>`ldadng_dt`</th>\n",
       "    </tr>\n",
       "  </thead>\n",
       "  <tbody>\n",
       "    <tr>\n",
       "      <th>0</th>\n",
       "      <td>`201710`</td>\n",
       "      <td>`휘발유`</td>\n",
       "      <td>`승용`</td>\n",
       "      <td>`비사업용`</td>\n",
       "      <td>`1581362`</td>\n",
       "      <td>`2018-07-25 13:09:37`</td>\n",
       "    </tr>\n",
       "    <tr>\n",
       "      <th>1</th>\n",
       "      <td>`201710`</td>\n",
       "      <td>`휘발유`</td>\n",
       "      <td>`승용`</td>\n",
       "      <td>`사업용`</td>\n",
       "      <td>`19134`</td>\n",
       "      <td>`2018-07-25 13:09:37`</td>\n",
       "    </tr>\n",
       "    <tr>\n",
       "      <th>2</th>\n",
       "      <td>`201710`</td>\n",
       "      <td>`휘발유`</td>\n",
       "      <td>`승합`</td>\n",
       "      <td>`비사업용`</td>\n",
       "      <td>`1060`</td>\n",
       "      <td>`2018-07-25 13:09:37`</td>\n",
       "    </tr>\n",
       "    <tr>\n",
       "      <th>3</th>\n",
       "      <td>`201710`</td>\n",
       "      <td>`휘발유`</td>\n",
       "      <td>`승합`</td>\n",
       "      <td>`사업용`</td>\n",
       "      <td>`48`</td>\n",
       "      <td>`2018-07-25 13:09:37`</td>\n",
       "    </tr>\n",
       "    <tr>\n",
       "      <th>4</th>\n",
       "      <td>`201710`</td>\n",
       "      <td>`휘발유`</td>\n",
       "      <td>`화물`</td>\n",
       "      <td>`비사업용`</td>\n",
       "      <td>`1716`</td>\n",
       "      <td>`2018-07-25 13:09:37`</td>\n",
       "    </tr>\n",
       "  </tbody>\n",
       "</table>\n",
       "</div>"
      ],
      "text/plain": [
       "  `regist_ym` `fuel_knd_nm` `vhcle_knd_ty` `vhcle_prpos_se`      `cnt`  \\\n",
       "0    `201710`         `휘발유`           `승용`           `비사업용`  `1581362`   \n",
       "1    `201710`         `휘발유`           `승용`            `사업용`    `19134`   \n",
       "2    `201710`         `휘발유`           `승합`           `비사업용`     `1060`   \n",
       "3    `201710`         `휘발유`           `승합`            `사업용`       `48`   \n",
       "4    `201710`         `휘발유`           `화물`           `비사업용`     `1716`   \n",
       "\n",
       "             `ldadng_dt`  \n",
       "0  `2018-07-25 13:09:37`  \n",
       "1  `2018-07-25 13:09:37`  \n",
       "2  `2018-07-25 13:09:37`  \n",
       "3  `2018-07-25 13:09:37`  \n",
       "4  `2018-07-25 13:09:37`  "
      ]
     },
     "execution_count": 3,
     "metadata": {},
     "output_type": "execute_result"
    }
   ],
   "source": [
    "dt = pd.read_table('./data/TN_TR_OWT_CAR_REGIST.txt',sep='|')\n",
    "dt.head()"
   ]
  },
  {
   "cell_type": "code",
   "execution_count": 4,
   "id": "fcdfd5a0",
   "metadata": {},
   "outputs": [],
   "source": [
    "dt = dt.apply(lambda x: x.str.strip('`'), axis = 1)"
   ]
  },
  {
   "cell_type": "markdown",
   "id": "85f22b35",
   "metadata": {},
   "source": [
    "연료가 알코올인 차량이 다 0인가..?"
   ]
  },
  {
   "cell_type": "code",
   "execution_count": 5,
   "id": "f58aed16",
   "metadata": {},
   "outputs": [
    {
     "data": {
      "text/plain": [
       "0    528\n",
       "Name: `cnt`, dtype: int64"
      ]
     },
     "execution_count": 5,
     "metadata": {},
     "output_type": "execute_result"
    }
   ],
   "source": [
    "dt[dt['`fuel_knd_nm`']=='알코올']['`cnt`'].value_counts()"
   ]
  },
  {
   "cell_type": "markdown",
   "id": "42902e31",
   "metadata": {},
   "source": [
    "Yes!  \n",
    "제거하는 걸로 "
   ]
  },
  {
   "cell_type": "code",
   "execution_count": 6,
   "id": "c49d06ce",
   "metadata": {},
   "outputs": [
    {
     "data": {
      "text/plain": [
       "0    528\n",
       "Name: `cnt`, dtype: int64"
      ]
     },
     "execution_count": 6,
     "metadata": {},
     "output_type": "execute_result"
    }
   ],
   "source": [
    "dt[dt['`fuel_knd_nm`']=='LNG']['`cnt`'].value_counts()"
   ]
  },
  {
   "cell_type": "markdown",
   "id": "a7f4b873",
   "metadata": {},
   "source": [
    "LNG도 하나도 없음"
   ]
  },
  {
   "cell_type": "code",
   "execution_count": 7,
   "id": "af53fd1c",
   "metadata": {
    "scrolled": true
   },
   "outputs": [
    {
     "data": {
      "text/plain": [
       "0    527\n",
       "1      1\n",
       "Name: `cnt`, dtype: int64"
      ]
     },
     "execution_count": 7,
     "metadata": {},
     "output_type": "execute_result"
    }
   ],
   "source": [
    "dt[dt['`fuel_knd_nm`']=='등유']['`cnt`'].value_counts()"
   ]
  },
  {
   "cell_type": "markdown",
   "id": "c6ac2c5a",
   "metadata": {},
   "source": [
    "등유는 단 하나.."
   ]
  },
  {
   "cell_type": "code",
   "execution_count": 8,
   "id": "06f14aad",
   "metadata": {},
   "outputs": [
    {
     "data": {
      "text/plain": [
       "하이브리드(LNG+전기)    528\n",
       "기타연료             528\n",
       "엘피지              528\n",
       "CNG              528\n",
       "하이브리드(휘발유+전기)    528\n",
       "전기               528\n",
       "휘발유              528\n",
       "하이브리드(CNG+전기)    528\n",
       "하이브리드(경유+전기)     528\n",
       "경유               528\n",
       "태양열              528\n",
       "수소               528\n",
       "하이브리드(LPG+전기)    528\n",
       "Name: `fuel_knd_nm`, dtype: int64"
      ]
     },
     "execution_count": 8,
     "metadata": {},
     "output_type": "execute_result"
    }
   ],
   "source": [
    "idx = dt[ (dt['`fuel_knd_nm`']=='알코올') | \n",
    "         (dt['`fuel_knd_nm`']=='LNG') | \n",
    "         (dt['`fuel_knd_nm`']=='등유') ].index\n",
    "\n",
    "# Delete these row indexes from dataFrame\n",
    "dt.drop(idx , inplace=True)\n",
    "dt['`fuel_knd_nm`'].value_counts()"
   ]
  },
  {
   "cell_type": "code",
   "execution_count": 9,
   "id": "d862ccda",
   "metadata": {},
   "outputs": [
    {
     "data": {
      "text/html": [
       "<div>\n",
       "<style scoped>\n",
       "    .dataframe tbody tr th:only-of-type {\n",
       "        vertical-align: middle;\n",
       "    }\n",
       "\n",
       "    .dataframe tbody tr th {\n",
       "        vertical-align: top;\n",
       "    }\n",
       "\n",
       "    .dataframe thead th {\n",
       "        text-align: right;\n",
       "    }\n",
       "</style>\n",
       "<table border=\"1\" class=\"dataframe\">\n",
       "  <thead>\n",
       "    <tr style=\"text-align: right;\">\n",
       "      <th></th>\n",
       "      <th>`regist_ym`</th>\n",
       "      <th>`fuel_knd_nm`</th>\n",
       "      <th>`vhcle_knd_ty`</th>\n",
       "      <th>`vhcle_prpos_se`</th>\n",
       "      <th>`cnt`</th>\n",
       "      <th>`ldadng_dt`</th>\n",
       "    </tr>\n",
       "  </thead>\n",
       "  <tbody>\n",
       "    <tr>\n",
       "      <th>0</th>\n",
       "      <td>202107</td>\n",
       "      <td>휘발유</td>\n",
       "      <td>승용</td>\n",
       "      <td>비사업용</td>\n",
       "      <td>1620931</td>\n",
       "      <td>2021-08-20 11:57:31</td>\n",
       "    </tr>\n",
       "    <tr>\n",
       "      <th>1</th>\n",
       "      <td>202107</td>\n",
       "      <td>휘발유</td>\n",
       "      <td>승용</td>\n",
       "      <td>사업용</td>\n",
       "      <td>21024</td>\n",
       "      <td>2021-08-20 11:57:31</td>\n",
       "    </tr>\n",
       "    <tr>\n",
       "      <th>2</th>\n",
       "      <td>202107</td>\n",
       "      <td>휘발유</td>\n",
       "      <td>승합</td>\n",
       "      <td>비사업용</td>\n",
       "      <td>1087</td>\n",
       "      <td>2021-08-20 11:57:31</td>\n",
       "    </tr>\n",
       "    <tr>\n",
       "      <th>3</th>\n",
       "      <td>202107</td>\n",
       "      <td>휘발유</td>\n",
       "      <td>승합</td>\n",
       "      <td>사업용</td>\n",
       "      <td>87</td>\n",
       "      <td>2021-08-20 11:57:31</td>\n",
       "    </tr>\n",
       "    <tr>\n",
       "      <th>4</th>\n",
       "      <td>202107</td>\n",
       "      <td>휘발유</td>\n",
       "      <td>화물</td>\n",
       "      <td>비사업용</td>\n",
       "      <td>2603</td>\n",
       "      <td>2021-08-20 11:57:31</td>\n",
       "    </tr>\n",
       "  </tbody>\n",
       "</table>\n",
       "</div>"
      ],
      "text/plain": [
       "  `regist_ym` `fuel_knd_nm` `vhcle_knd_ty` `vhcle_prpos_se`    `cnt`  \\\n",
       "0      202107           휘발유             승용             비사업용  1620931   \n",
       "1      202107           휘발유             승용              사업용    21024   \n",
       "2      202107           휘발유             승합             비사업용     1087   \n",
       "3      202107           휘발유             승합              사업용       87   \n",
       "4      202107           휘발유             화물             비사업용     2603   \n",
       "\n",
       "           `ldadng_dt`  \n",
       "0  2021-08-20 11:57:31  \n",
       "1  2021-08-20 11:57:31  \n",
       "2  2021-08-20 11:57:31  \n",
       "3  2021-08-20 11:57:31  \n",
       "4  2021-08-20 11:57:31  "
      ]
     },
     "execution_count": 9,
     "metadata": {},
     "output_type": "execute_result"
    }
   ],
   "source": [
    "dt_2107 = dt[dt['`regist_ym`'] == '202107']\n",
    "dt_new = dt_2107.reset_index(drop=True)\n",
    "dt_new.head()"
   ]
  },
  {
   "cell_type": "code",
   "execution_count": 10,
   "id": "334b5eed",
   "metadata": {},
   "outputs": [],
   "source": [
    "dt_new.to_csv('TN_TR_OWT_CAR_REGIST_2107.txt', sep = ',', index = False)"
   ]
  },
  {
   "cell_type": "markdown",
   "id": "adc37ce2",
   "metadata": {},
   "source": [
    "### TN_TR_OWT_CAR_REGIST_2107.txt 로 저장 완료, 구분자 ','"
   ]
  }
 ],
 "metadata": {
  "kernelspec": {
   "display_name": "Python 3",
   "language": "python",
   "name": "python3"
  },
  "language_info": {
   "codemirror_mode": {
    "name": "ipython",
    "version": 3
   },
   "file_extension": ".py",
   "mimetype": "text/x-python",
   "name": "python",
   "nbconvert_exporter": "python",
   "pygments_lexer": "ipython3",
   "version": "3.8.8"
  }
 },
 "nbformat": 4,
 "nbformat_minor": 5
}
