{
 "cells": [
  {
   "cell_type": "code",
   "execution_count": 25,
   "id": "bcbab6ad",
   "metadata": {},
   "outputs": [
    {
     "name": "stdout",
     "output_type": "stream",
     "text": [
      "3.8.11 (default, Aug  6 2021, 09:57:55) [MSC v.1916 64 bit (AMD64)]\n"
     ]
    }
   ],
   "source": [
    "import sys\n",
    "print(sys.version)"
   ]
  },
  {
   "cell_type": "code",
   "execution_count": null,
   "id": "516c331d",
   "metadata": {},
   "outputs": [],
   "source": [
    "stats"
   ]
  },
  {
   "cell_type": "code",
   "execution_count": 1,
   "id": "32158346",
   "metadata": {},
   "outputs": [],
   "source": [
    "%matplotlib inline\n",
    "import pandas as pd\n",
    "import numpy as np\n",
    "import matplotlib.pyplot as plt\n",
    "import yfinance as yf"
   ]
  },
  {
   "cell_type": "code",
   "execution_count": 2,
   "id": "98c657f1",
   "metadata": {},
   "outputs": [],
   "source": [
    "data = pd.read_table('CAR_REGIST_elec_hybrid.txt',sep=',')"
   ]
  },
  {
   "cell_type": "code",
   "execution_count": 3,
   "id": "2bb7e858",
   "metadata": {},
   "outputs": [],
   "source": [
    "data['regist_ym'] = data['regist_ym'].astype('str')"
   ]
  },
  {
   "cell_type": "code",
   "execution_count": 4,
   "id": "57e8c055",
   "metadata": {},
   "outputs": [],
   "source": [
    "data.set_index('regist_ym',inplace=True)"
   ]
  },
  {
   "cell_type": "code",
   "execution_count": 5,
   "id": "0b0b2054",
   "metadata": {},
   "outputs": [
    {
     "data": {
      "text/html": [
       "<div>\n",
       "<style scoped>\n",
       "    .dataframe tbody tr th:only-of-type {\n",
       "        vertical-align: middle;\n",
       "    }\n",
       "\n",
       "    .dataframe tbody tr th {\n",
       "        vertical-align: top;\n",
       "    }\n",
       "\n",
       "    .dataframe thead th {\n",
       "        text-align: right;\n",
       "    }\n",
       "</style>\n",
       "<table border=\"1\" class=\"dataframe\">\n",
       "  <thead>\n",
       "    <tr style=\"text-align: right;\">\n",
       "      <th></th>\n",
       "      <th>cnt</th>\n",
       "    </tr>\n",
       "    <tr>\n",
       "      <th>regist_ym</th>\n",
       "      <th></th>\n",
       "    </tr>\n",
       "  </thead>\n",
       "  <tbody>\n",
       "    <tr>\n",
       "      <th>201601</th>\n",
       "      <td>35812</td>\n",
       "    </tr>\n",
       "    <tr>\n",
       "      <th>201602</th>\n",
       "      <td>36494</td>\n",
       "    </tr>\n",
       "    <tr>\n",
       "      <th>201603</th>\n",
       "      <td>37251</td>\n",
       "    </tr>\n",
       "    <tr>\n",
       "      <th>201604</th>\n",
       "      <td>38726</td>\n",
       "    </tr>\n",
       "    <tr>\n",
       "      <th>201605</th>\n",
       "      <td>39771</td>\n",
       "    </tr>\n",
       "    <tr>\n",
       "      <th>...</th>\n",
       "      <td>...</td>\n",
       "    </tr>\n",
       "    <tr>\n",
       "      <th>202103</th>\n",
       "      <td>146088</td>\n",
       "    </tr>\n",
       "    <tr>\n",
       "      <th>202104</th>\n",
       "      <td>149414</td>\n",
       "    </tr>\n",
       "    <tr>\n",
       "      <th>202105</th>\n",
       "      <td>153010</td>\n",
       "    </tr>\n",
       "    <tr>\n",
       "      <th>202106</th>\n",
       "      <td>156975</td>\n",
       "    </tr>\n",
       "    <tr>\n",
       "      <th>202107</th>\n",
       "      <td>160255</td>\n",
       "    </tr>\n",
       "  </tbody>\n",
       "</table>\n",
       "<p>67 rows × 1 columns</p>\n",
       "</div>"
      ],
      "text/plain": [
       "              cnt\n",
       "regist_ym        \n",
       "201601      35812\n",
       "201602      36494\n",
       "201603      37251\n",
       "201604      38726\n",
       "201605      39771\n",
       "...           ...\n",
       "202103     146088\n",
       "202104     149414\n",
       "202105     153010\n",
       "202106     156975\n",
       "202107     160255\n",
       "\n",
       "[67 rows x 1 columns]"
      ]
     },
     "execution_count": 5,
     "metadata": {},
     "output_type": "execute_result"
    }
   ],
   "source": [
    "data"
   ]
  },
  {
   "cell_type": "code",
   "execution_count": 6,
   "id": "e8689df6",
   "metadata": {},
   "outputs": [
    {
     "data": {
      "text/html": [
       "<div>\n",
       "<style scoped>\n",
       "    .dataframe tbody tr th:only-of-type {\n",
       "        vertical-align: middle;\n",
       "    }\n",
       "\n",
       "    .dataframe tbody tr th {\n",
       "        vertical-align: top;\n",
       "    }\n",
       "\n",
       "    .dataframe thead th {\n",
       "        text-align: right;\n",
       "    }\n",
       "</style>\n",
       "<table border=\"1\" class=\"dataframe\">\n",
       "  <thead>\n",
       "    <tr style=\"text-align: right;\">\n",
       "      <th></th>\n",
       "      <th>cnt</th>\n",
       "    </tr>\n",
       "    <tr>\n",
       "      <th>regist_ym</th>\n",
       "      <th></th>\n",
       "    </tr>\n",
       "  </thead>\n",
       "  <tbody>\n",
       "    <tr>\n",
       "      <th>201601</th>\n",
       "      <td>35812</td>\n",
       "    </tr>\n",
       "    <tr>\n",
       "      <th>201602</th>\n",
       "      <td>36494</td>\n",
       "    </tr>\n",
       "    <tr>\n",
       "      <th>201603</th>\n",
       "      <td>37251</td>\n",
       "    </tr>\n",
       "    <tr>\n",
       "      <th>201604</th>\n",
       "      <td>38726</td>\n",
       "    </tr>\n",
       "    <tr>\n",
       "      <th>201605</th>\n",
       "      <td>39771</td>\n",
       "    </tr>\n",
       "    <tr>\n",
       "      <th>...</th>\n",
       "      <td>...</td>\n",
       "    </tr>\n",
       "    <tr>\n",
       "      <th>202010</th>\n",
       "      <td>131286</td>\n",
       "    </tr>\n",
       "    <tr>\n",
       "      <th>202011</th>\n",
       "      <td>135030</td>\n",
       "    </tr>\n",
       "    <tr>\n",
       "      <th>202012</th>\n",
       "      <td>138673</td>\n",
       "    </tr>\n",
       "    <tr>\n",
       "      <th>202101</th>\n",
       "      <td>141019</td>\n",
       "    </tr>\n",
       "    <tr>\n",
       "      <th>202102</th>\n",
       "      <td>142763</td>\n",
       "    </tr>\n",
       "  </tbody>\n",
       "</table>\n",
       "<p>62 rows × 1 columns</p>\n",
       "</div>"
      ],
      "text/plain": [
       "              cnt\n",
       "regist_ym        \n",
       "201601      35812\n",
       "201602      36494\n",
       "201603      37251\n",
       "201604      38726\n",
       "201605      39771\n",
       "...           ...\n",
       "202010     131286\n",
       "202011     135030\n",
       "202012     138673\n",
       "202101     141019\n",
       "202102     142763\n",
       "\n",
       "[62 rows x 1 columns]"
      ]
     },
     "execution_count": 6,
     "metadata": {},
     "output_type": "execute_result"
    }
   ],
   "source": [
    "datatr = data[:62]\n",
    "datatr"
   ]
  },
  {
   "cell_type": "code",
   "execution_count": 7,
   "id": "407f2d9f",
   "metadata": {
    "scrolled": true
   },
   "outputs": [
    {
     "data": {
      "text/html": [
       "<div>\n",
       "<style scoped>\n",
       "    .dataframe tbody tr th:only-of-type {\n",
       "        vertical-align: middle;\n",
       "    }\n",
       "\n",
       "    .dataframe tbody tr th {\n",
       "        vertical-align: top;\n",
       "    }\n",
       "\n",
       "    .dataframe thead th {\n",
       "        text-align: right;\n",
       "    }\n",
       "</style>\n",
       "<table border=\"1\" class=\"dataframe\">\n",
       "  <thead>\n",
       "    <tr style=\"text-align: right;\">\n",
       "      <th></th>\n",
       "      <th>cnt</th>\n",
       "    </tr>\n",
       "    <tr>\n",
       "      <th>regist_ym</th>\n",
       "      <th></th>\n",
       "    </tr>\n",
       "  </thead>\n",
       "  <tbody>\n",
       "    <tr>\n",
       "      <th>202103</th>\n",
       "      <td>146088</td>\n",
       "    </tr>\n",
       "    <tr>\n",
       "      <th>202104</th>\n",
       "      <td>149414</td>\n",
       "    </tr>\n",
       "    <tr>\n",
       "      <th>202105</th>\n",
       "      <td>153010</td>\n",
       "    </tr>\n",
       "    <tr>\n",
       "      <th>202106</th>\n",
       "      <td>156975</td>\n",
       "    </tr>\n",
       "    <tr>\n",
       "      <th>202107</th>\n",
       "      <td>160255</td>\n",
       "    </tr>\n",
       "  </tbody>\n",
       "</table>\n",
       "</div>"
      ],
      "text/plain": [
       "              cnt\n",
       "regist_ym        \n",
       "202103     146088\n",
       "202104     149414\n",
       "202105     153010\n",
       "202106     156975\n",
       "202107     160255"
      ]
     },
     "execution_count": 7,
     "metadata": {},
     "output_type": "execute_result"
    }
   ],
   "source": [
    "datat = data[62:]\n",
    "datat"
   ]
  },
  {
   "cell_type": "code",
   "execution_count": 8,
   "id": "35723e43",
   "metadata": {},
   "outputs": [],
   "source": [
    "# 글꼴\n",
    "import platform\n",
    "\n",
    "from matplotlib import font_manager, rc\n",
    "plt.rcParams['axes.unicode_minus'] = False\n",
    "\n",
    "if platform.system() == 'Darwin':\n",
    "    rc('font', family='AppleGothic')\n",
    "elif platform.system() == 'Windows':\n",
    "    path = \"c:/Windows/Fonts/malgun.ttf\"\n",
    "    font_name = font_manager.FontProperties(fname=path).get_name()\n",
    "    rc('font', family=font_name)\n",
    "elif platform.system() == 'Linux':\n",
    "    path = \"/usr/share/fonts/NanumFont/NanumGothic.ttf\"\n",
    "    font_name = font_manager.FontProperties(fname=path).get_name()\n",
    "    plt.rc('font', family=font_name)\n",
    "else:\n",
    "    print('Unknown system... sorry~~~~')"
   ]
  },
  {
   "cell_type": "code",
   "execution_count": 9,
   "id": "8b2ebc6d",
   "metadata": {},
   "outputs": [
    {
     "name": "stderr",
     "output_type": "stream",
     "text": [
      "C:\\Users\\rkdxo\\anaconda3\\envs\\kang\\lib\\site-packages\\statsmodels\\tsa\\arima_model.py:472: FutureWarning: \n",
      "statsmodels.tsa.arima_model.ARMA and statsmodels.tsa.arima_model.ARIMA have\n",
      "been deprecated in favor of statsmodels.tsa.arima.model.ARIMA (note the .\n",
      "between arima and model) and\n",
      "statsmodels.tsa.SARIMAX. These will be removed after the 0.12 release.\n",
      "\n",
      "statsmodels.tsa.arima.model.ARIMA makes use of the statespace framework and\n",
      "is both well tested and maintained.\n",
      "\n",
      "To silence this warning and continue using ARMA and ARIMA until they are\n",
      "removed, use:\n",
      "\n",
      "import warnings\n",
      "warnings.filterwarnings('ignore', 'statsmodels.tsa.arima_model.ARMA',\n",
      "                        FutureWarning)\n",
      "warnings.filterwarnings('ignore', 'statsmodels.tsa.arima_model.ARIMA',\n",
      "                        FutureWarning)\n",
      "\n",
      "  warnings.warn(ARIMA_DEPRECATION_WARN, FutureWarning)\n",
      "C:\\Users\\rkdxo\\anaconda3\\envs\\kang\\lib\\site-packages\\statsmodels\\tsa\\base\\tsa_model.py:578: ValueWarning: An unsupported index was provided and will be ignored when e.g. forecasting.\n",
      "  warnings.warn('An unsupported index was provided and will be'\n",
      "C:\\Users\\rkdxo\\anaconda3\\envs\\kang\\lib\\site-packages\\statsmodels\\tsa\\base\\tsa_model.py:578: ValueWarning: An unsupported index was provided and will be ignored when e.g. forecasting.\n",
      "  warnings.warn('An unsupported index was provided and will be'\n"
     ]
    },
    {
     "name": "stdout",
     "output_type": "stream",
     "text": [
      "                             ARIMA Model Results                              \n",
      "==============================================================================\n",
      "Dep. Variable:                 D2.cnt   No. Observations:                   65\n",
      "Model:                 ARIMA(0, 2, 2)   Log Likelihood                -495.411\n",
      "Method:                       css-mle   S.D. of innovations            480.327\n",
      "Date:                Thu, 21 Oct 2021   AIC                            998.823\n",
      "Time:                        00:23:49   BIC                           1007.520\n",
      "Sample:                             2   HQIC                          1002.254\n",
      "                                                                              \n",
      "================================================================================\n",
      "                   coef    std err          z      P>|z|      [0.025      0.975]\n",
      "--------------------------------------------------------------------------------\n",
      "const           36.3048      4.474      8.114      0.000      27.536      45.074\n",
      "ma.L1.D2.cnt    -0.5380      0.132     -4.073      0.000      -0.797      -0.279\n",
      "ma.L2.D2.cnt    -0.4620      0.116     -3.969      0.000      -0.690      -0.234\n",
      "                                    Roots                                    \n",
      "=============================================================================\n",
      "                  Real          Imaginary           Modulus         Frequency\n",
      "-----------------------------------------------------------------------------\n",
      "MA.1            1.0000           +0.0000j            1.0000            0.0000\n",
      "MA.2           -2.1646           +0.0000j            2.1646            0.5000\n",
      "-----------------------------------------------------------------------------\n"
     ]
    }
   ],
   "source": [
    "from statsmodels.tsa.arima_model import ARIMA\n",
    "import statsmodels.api as sm\n",
    "\n",
    "# (AR = 2, 차분 =1, MA=2) 파라미터로 ARIMA 모델을 학습한다.\n",
    "model = ARIMA(data.cnt, order = (0,2,2))\n",
    "model_fit = model.fit(trend = 'c', full_output = True, disp = True)\n",
    "print(model_fit.summary())"
   ]
  },
  {
   "cell_type": "code",
   "execution_count": 10,
   "id": "b88628a9",
   "metadata": {},
   "outputs": [
    {
     "data": {
      "image/png": "[encoded data removed]",
      "text/plain": [
       "<Figure size 432x288 with 1 Axes>"
      ]
     },
     "metadata": {
      "needs_background": "light"
     },
     "output_type": "display_data"
    }
   ],
   "source": [
    "fig = model_fit.plot_predict()"
   ]
  },
  {
   "cell_type": "code",
   "execution_count": 11,
   "id": "d195991e",
   "metadata": {},
   "outputs": [
    {
     "data": {
      "text/plain": [
       "<AxesSubplot:title={'center':'실제값과 예측값의 잔차'}, xlabel='regist_ym'>"
      ]
     },
     "execution_count": 11,
     "metadata": {},
     "output_type": "execute_result"
    },
    {
     "data": {
      "image/png": "[encoded data removed]",
      "text/plain": [
       "<Figure size 432x288 with 1 Axes>"
      ]
     },
     "metadata": {
      "needs_background": "light"
     },
     "output_type": "display_data"
    }
   ],
   "source": [
    "residuals = pd.DataFrame(model_fit.resid)\n",
    "residuals.plot(title = \"실제값과 예측값의 잔차\")"
   ]
  },
  {
   "cell_type": "code",
   "execution_count": 12,
   "id": "6d528e13",
   "metadata": {},
   "outputs": [],
   "source": [
    "forecast_data = model_fit.forecast(steps=36) "
   ]
  },
  {
   "cell_type": "code",
   "execution_count": 13,
   "id": "f0ba6a99",
   "metadata": {},
   "outputs": [],
   "source": [
    "# 마지막 5일의 예측 데이터 (2021-04-15 ~ 2021-04-19)\n",
    "pred_arima_y = forecast_data[0].tolist()\n",
    "\n",
    "# 실제 5일의 데이터 (2021-04-15 ~ 2021-04-19)\n",
    "test_y = datat.cnt\n",
    "\n",
    "# 마지막 5일의 예측 데이터 최소값\n",
    "pred_y_lower = []\n",
    "# 마지막 5일의 예측 데이터 최대값\n",
    "pred_y_upper = []\n",
    "\n",
    "for lower_upper in forecast_data[2]:\n",
    "    lower = lower_upper[0]\n",
    "    upper = lower_upper[1]\n",
    "    pred_y_lower.append(lower)\n",
    "    pred_y_upper.append(upper)"
   ]
  },
  {
   "cell_type": "code",
   "execution_count": 49,
   "id": "0787184a",
   "metadata": {},
   "outputs": [
    {
     "data": {
      "text/plain": [
       "[35812,\n",
       " 36494,\n",
       " 37251,\n",
       " 38726,\n",
       " 39771,\n",
       " 41162,\n",
       " 41694,\n",
       " 42285,\n",
       " 43140,\n",
       " 44115,\n",
       " 45164,\n",
       " 46373,\n",
       " 47407,\n",
       " 48062,\n",
       " 49062,\n",
       " 50238,\n",
       " 51625,\n",
       " 53581,\n",
       " 55412,\n",
       " 56749,\n",
       " 58739,\n",
       " 60171,\n",
       " 62122,\n",
       " 64228,\n",
       " 65586,\n",
       " 66797,\n",
       " 68132,\n",
       " 69298,\n",
       " 70905,\n",
       " 72747,\n",
       " 74624,\n",
       " 76168,\n",
       " 77679,\n",
       " 79768,\n",
       " 82650,\n",
       " 84742,\n",
       " 86289,\n",
       " 87476,\n",
       " 89163,\n",
       " 90974,\n",
       " 93108,\n",
       " 95103,\n",
       " 97127,\n",
       " 98028,\n",
       " 99329,\n",
       " 100925,\n",
       " 103255,\n",
       " 106457,\n",
       " 108029,\n",
       " 109768,\n",
       " 111878,\n",
       " 113819,\n",
       " 116140,\n",
       " 119751,\n",
       " 122513,\n",
       " 124874,\n",
       " 128341,\n",
       " 131286,\n",
       " 135030,\n",
       " 138673,\n",
       " 141019,\n",
       " 142763,\n",
       " 146088,\n",
       " 149414,\n",
       " 153010,\n",
       " 156975,\n",
       " 160255]"
      ]
     },
     "execution_count": 49,
     "metadata": {},
     "output_type": "execute_result"
    }
   ],
   "source": [
    "a"
   ]
  },
  {
   "cell_type": "code",
   "execution_count": 48,
   "id": "5e33b565",
   "metadata": {
    "scrolled": true
   },
   "outputs": [
    {
     "data": {
      "text/plain": [
       "[162370.79367286377,\n",
       " 164780.27251128372,\n",
       " 167457.4997080039,\n",
       " 170264.77782564802,\n",
       " 173163.0900326811,\n",
       " 176134.7275995343,\n",
       " 179169.867831163,\n",
       " 182262.38928286062,\n",
       " 185408.1714087754,\n",
       " 188604.28345924738,\n",
       " 191848.55273720066,\n",
       " 195139.3155608092,\n",
       " 198475.26447732892,\n",
       " 201855.34982490988,\n",
       " 205278.71373049248,\n",
       " 208744.64436502915,\n",
       " 212252.54333862817,\n",
       " 215801.9018973656,\n",
       " 219392.28318101575,\n",
       " 223023.30875585927,\n",
       " 226694.64822716344,\n",
       " 230406.01111196287,\n",
       " 234157.1403985822,\n",
       " 237947.80738380217,\n",
       " 241777.80749090324,\n",
       " 245646.95685000214,\n",
       " 249555.08947743158,\n",
       " 253502.0549306898,\n",
       " 257487.7163444819,\n",
       " 261511.9487747872,\n",
       " 265574.6377938866,\n",
       " 269675.6782913732,\n",
       " 273814.97344539635,\n",
       " 277992.433835498,\n",
       " 282207.9766739277,\n",
       " 286461.52513665176]"
      ]
     },
     "execution_count": 48,
     "metadata": {},
     "output_type": "execute_result"
    }
   ],
   "source": [
    "pred_y_lower"
   ]
  },
  {
   "cell_type": "code",
   "execution_count": 54,
   "id": "7f1b11cb",
   "metadata": {},
   "outputs": [
    {
     "data": {
      "text/html": [
       "<div>\n",
       "<style scoped>\n",
       "    .dataframe tbody tr th:only-of-type {\n",
       "        vertical-align: middle;\n",
       "    }\n",
       "\n",
       "    .dataframe tbody tr th {\n",
       "        vertical-align: top;\n",
       "    }\n",
       "\n",
       "    .dataframe thead th {\n",
       "        text-align: right;\n",
       "    }\n",
       "</style>\n",
       "<table border=\"1\" class=\"dataframe\">\n",
       "  <thead>\n",
       "    <tr style=\"text-align: right;\">\n",
       "      <th></th>\n",
       "      <th>예측</th>\n",
       "      <th>최소</th>\n",
       "      <th>최대</th>\n",
       "    </tr>\n",
       "  </thead>\n",
       "  <tbody>\n",
       "    <tr>\n",
       "      <th>0</th>\n",
       "      <td>35812.0</td>\n",
       "      <td>35812.0</td>\n",
       "      <td>35812.0</td>\n",
       "    </tr>\n",
       "    <tr>\n",
       "      <th>1</th>\n",
       "      <td>36494.0</td>\n",
       "      <td>36494.0</td>\n",
       "      <td>36494.0</td>\n",
       "    </tr>\n",
       "    <tr>\n",
       "      <th>2</th>\n",
       "      <td>37251.0</td>\n",
       "      <td>37251.0</td>\n",
       "      <td>37251.0</td>\n",
       "    </tr>\n",
       "    <tr>\n",
       "      <th>3</th>\n",
       "      <td>38726.0</td>\n",
       "      <td>38726.0</td>\n",
       "      <td>38726.0</td>\n",
       "    </tr>\n",
       "    <tr>\n",
       "      <th>4</th>\n",
       "      <td>39771.0</td>\n",
       "      <td>39771.0</td>\n",
       "      <td>39771.0</td>\n",
       "    </tr>\n",
       "  </tbody>\n",
       "</table>\n",
       "</div>"
      ],
      "text/plain": [
       "        예측       최소       최대\n",
       "0  35812.0  35812.0  35812.0\n",
       "1  36494.0  36494.0  36494.0\n",
       "2  37251.0  37251.0  37251.0\n",
       "3  38726.0  38726.0  38726.0\n",
       "4  39771.0  39771.0  39771.0"
      ]
     },
     "execution_count": 54,
     "metadata": {},
     "output_type": "execute_result"
    }
   ],
   "source": [
    "dataframe.head()"
   ]
  },
  {
   "cell_type": "code",
   "execution_count": 65,
   "id": "a9b29543",
   "metadata": {},
   "outputs": [
    {
     "data": {
      "text/html": [
       "<div>\n",
       "<style scoped>\n",
       "    .dataframe tbody tr th:only-of-type {\n",
       "        vertical-align: middle;\n",
       "    }\n",
       "\n",
       "    .dataframe tbody tr th {\n",
       "        vertical-align: top;\n",
       "    }\n",
       "\n",
       "    .dataframe thead th {\n",
       "        text-align: right;\n",
       "    }\n",
       "</style>\n",
       "<table border=\"1\" class=\"dataframe\">\n",
       "  <thead>\n",
       "    <tr style=\"text-align: right;\">\n",
       "      <th></th>\n",
       "      <th>cnt</th>\n",
       "    </tr>\n",
       "    <tr>\n",
       "      <th>regist_ym</th>\n",
       "      <th></th>\n",
       "    </tr>\n",
       "  </thead>\n",
       "  <tbody>\n",
       "    <tr>\n",
       "      <th>201601</th>\n",
       "      <td>35812</td>\n",
       "    </tr>\n",
       "    <tr>\n",
       "      <th>201602</th>\n",
       "      <td>36494</td>\n",
       "    </tr>\n",
       "    <tr>\n",
       "      <th>201603</th>\n",
       "      <td>37251</td>\n",
       "    </tr>\n",
       "    <tr>\n",
       "      <th>201604</th>\n",
       "      <td>38726</td>\n",
       "    </tr>\n",
       "    <tr>\n",
       "      <th>201605</th>\n",
       "      <td>39771</td>\n",
       "    </tr>\n",
       "    <tr>\n",
       "      <th>...</th>\n",
       "      <td>...</td>\n",
       "    </tr>\n",
       "    <tr>\n",
       "      <th>202103</th>\n",
       "      <td>146088</td>\n",
       "    </tr>\n",
       "    <tr>\n",
       "      <th>202104</th>\n",
       "      <td>149414</td>\n",
       "    </tr>\n",
       "    <tr>\n",
       "      <th>202105</th>\n",
       "      <td>153010</td>\n",
       "    </tr>\n",
       "    <tr>\n",
       "      <th>202106</th>\n",
       "      <td>156975</td>\n",
       "    </tr>\n",
       "    <tr>\n",
       "      <th>202107</th>\n",
       "      <td>160255</td>\n",
       "    </tr>\n",
       "  </tbody>\n",
       "</table>\n",
       "<p>67 rows × 1 columns</p>\n",
       "</div>"
      ],
      "text/plain": [
       "              cnt\n",
       "regist_ym        \n",
       "201601      35812\n",
       "201602      36494\n",
       "201603      37251\n",
       "201604      38726\n",
       "201605      39771\n",
       "...           ...\n",
       "202103     146088\n",
       "202104     149414\n",
       "202105     153010\n",
       "202106     156975\n",
       "202107     160255\n",
       "\n",
       "[67 rows x 1 columns]"
      ]
     },
     "execution_count": 65,
     "metadata": {},
     "output_type": "execute_result"
    }
   ],
   "source": [
    "data"
   ]
  },
  {
   "cell_type": "code",
   "execution_count": 70,
   "id": "4cbac042",
   "metadata": {},
   "outputs": [
    {
     "data": {
      "image/png": "[encoded data removed]",
      "text/plain": [
       "<Figure size 648x432 with 1 Axes>"
      ]
     },
     "metadata": {
      "needs_background": "light"
     },
     "output_type": "display_data"
    }
   ],
   "source": [
    "plt.figure(figsize=(9, 6))\n",
    "\n",
    "# 모델이 예측한 최고 가격 그래프\n",
    "plt.plot('최대', color = 'lightgreen',data=dataframe)\n",
    "\n",
    "# 모델이 예측한 최저 가격 그래프\n",
    "plt.plot('최소', color = 'limegreen',data=dataframe)\n",
    "\n",
    "# 모델이 예측한 가격 그래프\n",
    "plt.plot('예측', color = 'green',data=dataframe)\n",
    "\n",
    "plt.xticks(range(0, 103, 12), labels=['201601', '201701', '201801', '201901', '202001', '202101', '202201', '202301', '202401'])\n",
    "\n",
    "plt.axvline(66, 0, 300000, color='indianred', linestyle='--', linewidth=2)\n",
    "\n",
    "plt.xlabel('년월', size=15, labelpad=10)\n",
    "plt.ylabel('전기차 + 하이브리드 (대)', size=15, labelpad=10)\n",
    "\n",
    "plt.legend(['최대값', '실제값&예측값','최소값'], fontsize=15)\n",
    "plt.title('서울시 전기차 & 하이브리드 향후 3년 예측', size=18, pad=15)\n",
    "plt.show()"
   ]
  },
  {
   "cell_type": "code",
   "execution_count": 15,
   "id": "e05f84d3",
   "metadata": {
    "scrolled": true
   },
   "outputs": [],
   "source": [
    "a = data['cnt'].to_list()"
   ]
  },
  {
   "cell_type": "code",
   "execution_count": 16,
   "id": "6b45b705",
   "metadata": {
    "scrolled": true
   },
   "outputs": [],
   "source": [
    "b = a + pred_arima_y"
   ]
  },
  {
   "cell_type": "code",
   "execution_count": 50,
   "id": "e5aee071",
   "metadata": {},
   "outputs": [],
   "source": [
    "c = a + pred_y_lower\n",
    "d = a + pred_y_upper"
   ]
  },
  {
   "cell_type": "code",
   "execution_count": 51,
   "id": "29fcf3fa",
   "metadata": {},
   "outputs": [],
   "source": [
    "dataframe = {'예측':  b,'최소':  c,'최대':  d}"
   ]
  },
  {
   "cell_type": "code",
   "execution_count": 18,
   "id": "374c666b",
   "metadata": {
    "scrolled": true
   },
   "outputs": [
    {
     "data": {
      "text/plain": [
       "[163312.21826551415,\n",
       " 166447.7817964276,\n",
       " 169619.65014124263,\n",
       " 172827.82329995927,\n",
       " 176072.30127257755,\n",
       " 179353.08405909743,\n",
       " 182670.1716595189,\n",
       " 186023.56407384202,\n",
       " 189413.26130206673,\n",
       " 192839.26334419305,\n",
       " 196301.570200221,\n",
       " 199800.18187015055,\n",
       " 203335.09835398174,\n",
       " 206906.31965171453,\n",
       " 210513.84576334892,\n",
       " 214157.67668888494,\n",
       " 217837.81242832256,\n",
       " 221554.2529816618,\n",
       " 225306.99834890265,\n",
       " 229096.0485300451,\n",
       " 232921.40352508918,\n",
       " 236783.06333403487,\n",
       " 240681.02795688217,\n",
       " 244615.29739363107,\n",
       " 248585.8716442816,\n",
       " 252592.75070883374,\n",
       " 256635.93458728748,\n",
       " 260715.42327964286,\n",
       " 264831.21678589983,\n",
       " 268983.31510605844,\n",
       " 273171.71824011864,\n",
       " 277396.42618808046,\n",
       " 281657.43894994387,\n",
       " 285954.7565257089,\n",
       " 290288.37891537556,\n",
       " 294658.30611894384]"
      ]
     },
     "execution_count": 18,
     "metadata": {},
     "output_type": "execute_result"
    }
   ],
   "source": [
    "pred_arima_y"
   ]
  },
  {
   "cell_type": "code",
   "execution_count": 52,
   "id": "06696ab1",
   "metadata": {
    "scrolled": false
   },
   "outputs": [
    {
     "data": {
      "text/plain": [
       "<AxesSubplot:>"
      ]
     },
     "execution_count": 52,
     "metadata": {},
     "output_type": "execute_result"
    },
    {
     "data": {
      "image/png": "[encoded data removed]",
      "text/plain": [
       "<Figure size 1440x576 with 1 Axes>"
      ]
     },
     "metadata": {
      "needs_background": "light"
     },
     "output_type": "display_data"
    }
   ],
   "source": [
    "dataframe = pd.DataFrame(dataframe)\n",
    "dataframe.plot(figsize=(20,8))"
   ]
  },
  {
   "cell_type": "code",
   "execution_count": 20,
   "id": "b7abd1b5",
   "metadata": {
    "scrolled": true
   },
   "outputs": [
    {
     "data": {
      "text/html": [
       "<div>\n",
       "<style scoped>\n",
       "    .dataframe tbody tr th:only-of-type {\n",
       "        vertical-align: middle;\n",
       "    }\n",
       "\n",
       "    .dataframe tbody tr th {\n",
       "        vertical-align: top;\n",
       "    }\n",
       "\n",
       "    .dataframe thead th {\n",
       "        text-align: right;\n",
       "    }\n",
       "</style>\n",
       "<table border=\"1\" class=\"dataframe\">\n",
       "  <thead>\n",
       "    <tr style=\"text-align: right;\">\n",
       "      <th></th>\n",
       "      <th>cnt</th>\n",
       "    </tr>\n",
       "  </thead>\n",
       "  <tbody>\n",
       "    <tr>\n",
       "      <th>0</th>\n",
       "      <td>35812.000000</td>\n",
       "    </tr>\n",
       "    <tr>\n",
       "      <th>1</th>\n",
       "      <td>36494.000000</td>\n",
       "    </tr>\n",
       "    <tr>\n",
       "      <th>2</th>\n",
       "      <td>37251.000000</td>\n",
       "    </tr>\n",
       "    <tr>\n",
       "      <th>3</th>\n",
       "      <td>38726.000000</td>\n",
       "    </tr>\n",
       "    <tr>\n",
       "      <th>4</th>\n",
       "      <td>39771.000000</td>\n",
       "    </tr>\n",
       "    <tr>\n",
       "      <th>...</th>\n",
       "      <td>...</td>\n",
       "    </tr>\n",
       "    <tr>\n",
       "      <th>98</th>\n",
       "      <td>277396.426188</td>\n",
       "    </tr>\n",
       "    <tr>\n",
       "      <th>99</th>\n",
       "      <td>281657.438950</td>\n",
       "    </tr>\n",
       "    <tr>\n",
       "      <th>100</th>\n",
       "      <td>285954.756526</td>\n",
       "    </tr>\n",
       "    <tr>\n",
       "      <th>101</th>\n",
       "      <td>290288.378915</td>\n",
       "    </tr>\n",
       "    <tr>\n",
       "      <th>102</th>\n",
       "      <td>294658.306119</td>\n",
       "    </tr>\n",
       "  </tbody>\n",
       "</table>\n",
       "<p>103 rows × 1 columns</p>\n",
       "</div>"
      ],
      "text/plain": [
       "               cnt\n",
       "0     35812.000000\n",
       "1     36494.000000\n",
       "2     37251.000000\n",
       "3     38726.000000\n",
       "4     39771.000000\n",
       "..             ...\n",
       "98   277396.426188\n",
       "99   281657.438950\n",
       "100  285954.756526\n",
       "101  290288.378915\n",
       "102  294658.306119\n",
       "\n",
       "[103 rows x 1 columns]"
      ]
     },
     "execution_count": 20,
     "metadata": {},
     "output_type": "execute_result"
    }
   ],
   "source": [
    "dataframe"
   ]
  },
  {
   "cell_type": "code",
   "execution_count": 41,
   "id": "120ba3f8",
   "metadata": {},
   "outputs": [
    {
     "data": {
      "text/html": [
       "<div>\n",
       "<style scoped>\n",
       "    .dataframe tbody tr th:only-of-type {\n",
       "        vertical-align: middle;\n",
       "    }\n",
       "\n",
       "    .dataframe tbody tr th {\n",
       "        vertical-align: top;\n",
       "    }\n",
       "\n",
       "    .dataframe thead th {\n",
       "        text-align: right;\n",
       "    }\n",
       "</style>\n",
       "<table border=\"1\" class=\"dataframe\">\n",
       "  <thead>\n",
       "    <tr style=\"text-align: right;\">\n",
       "      <th></th>\n",
       "      <th>regist_ym</th>\n",
       "      <th>cnt</th>\n",
       "    </tr>\n",
       "  </thead>\n",
       "  <tbody>\n",
       "    <tr>\n",
       "      <th>0</th>\n",
       "      <td>201601</td>\n",
       "      <td>35812</td>\n",
       "    </tr>\n",
       "    <tr>\n",
       "      <th>1</th>\n",
       "      <td>201602</td>\n",
       "      <td>36494</td>\n",
       "    </tr>\n",
       "    <tr>\n",
       "      <th>2</th>\n",
       "      <td>201603</td>\n",
       "      <td>37251</td>\n",
       "    </tr>\n",
       "    <tr>\n",
       "      <th>3</th>\n",
       "      <td>201604</td>\n",
       "      <td>38726</td>\n",
       "    </tr>\n",
       "    <tr>\n",
       "      <th>4</th>\n",
       "      <td>201605</td>\n",
       "      <td>39771</td>\n",
       "    </tr>\n",
       "    <tr>\n",
       "      <th>...</th>\n",
       "      <td>...</td>\n",
       "      <td>...</td>\n",
       "    </tr>\n",
       "    <tr>\n",
       "      <th>62</th>\n",
       "      <td>202103</td>\n",
       "      <td>146088</td>\n",
       "    </tr>\n",
       "    <tr>\n",
       "      <th>63</th>\n",
       "      <td>202104</td>\n",
       "      <td>149414</td>\n",
       "    </tr>\n",
       "    <tr>\n",
       "      <th>64</th>\n",
       "      <td>202105</td>\n",
       "      <td>153010</td>\n",
       "    </tr>\n",
       "    <tr>\n",
       "      <th>65</th>\n",
       "      <td>202106</td>\n",
       "      <td>156975</td>\n",
       "    </tr>\n",
       "    <tr>\n",
       "      <th>66</th>\n",
       "      <td>202107</td>\n",
       "      <td>160255</td>\n",
       "    </tr>\n",
       "  </tbody>\n",
       "</table>\n",
       "<p>67 rows × 2 columns</p>\n",
       "</div>"
      ],
      "text/plain": [
       "   regist_ym     cnt\n",
       "0     201601   35812\n",
       "1     201602   36494\n",
       "2     201603   37251\n",
       "3     201604   38726\n",
       "4     201605   39771\n",
       "..       ...     ...\n",
       "62    202103  146088\n",
       "63    202104  149414\n",
       "64    202105  153010\n",
       "65    202106  156975\n",
       "66    202107  160255\n",
       "\n",
       "[67 rows x 2 columns]"
      ]
     },
     "execution_count": 41,
     "metadata": {},
     "output_type": "execute_result"
    }
   ],
   "source": [
    "data.reset_index(drop=False)"
   ]
  },
  {
   "cell_type": "code",
   "execution_count": 21,
   "id": "3279d063",
   "metadata": {},
   "outputs": [],
   "source": [
    "dataframe.to_csv('예측67.csv',index=False,encoding='cp949')"
   ]
  },
  {
   "cell_type": "code",
   "execution_count": 42,
   "id": "f9e47586",
   "metadata": {},
   "outputs": [],
   "source": [
    "ratio = (dataframe['cnt'][102]/dataframe['cnt'][66])*100"
   ]
  },
  {
   "cell_type": "code",
   "execution_count": 43,
   "id": "f2dcd4b0",
   "metadata": {},
   "outputs": [
    {
     "data": {
      "text/plain": [
       "183.8684010601503"
      ]
     },
     "execution_count": 43,
     "metadata": {},
     "output_type": "execute_result"
    }
   ],
   "source": [
    "ratio"
   ]
  }
 ],
 "metadata": {
  "kernelspec": {
   "display_name": "Python 3 (ipykernel)",
   "language": "python",
   "name": "python3"
  },
  "language_info": {
   "codemirror_mode": {
    "name": "ipython",
    "version": 3
   },
   "file_extension": ".py",
   "mimetype": "text/x-python",
   "name": "python",
   "nbconvert_exporter": "python",
   "pygments_lexer": "ipython3",
   "version": "3.8.11"
  }
 },
 "nbformat": 4,
 "nbformat_minor": 5
}
