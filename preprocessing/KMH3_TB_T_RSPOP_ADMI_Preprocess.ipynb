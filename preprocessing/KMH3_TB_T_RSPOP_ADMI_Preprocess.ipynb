{
 "cells": [
  {
   "cell_type": "code",
   "execution_count": 1,
   "id": "4300be52",
   "metadata": {},
   "outputs": [],
   "source": [
    "import numpy as np \n",
    "import pandas as pd "
   ]
  },
  {
   "cell_type": "code",
   "execution_count": 2,
   "id": "8683c838",
   "metadata": {},
   "outputs": [
    {
     "data": {
      "text/plain": [
       "'/Users/kimmh/Desktop/서데캠'"
      ]
     },
     "execution_count": 2,
     "metadata": {},
     "output_type": "execute_result"
    }
   ],
   "source": [
    "import os \n",
    "os.chdir('/Users/kimmh/Desktop/서데캠/')\n",
    "os.getcwd()"
   ]
  },
  {
   "cell_type": "code",
   "execution_count": 3,
   "id": "b506e31f",
   "metadata": {},
   "outputs": [
    {
     "data": {
      "text/html": [
       "<div>\n",
       "<style scoped>\n",
       "    .dataframe tbody tr th:only-of-type {\n",
       "        vertical-align: middle;\n",
       "    }\n",
       "\n",
       "    .dataframe tbody tr th {\n",
       "        vertical-align: top;\n",
       "    }\n",
       "\n",
       "    .dataframe thead th {\n",
       "        text-align: right;\n",
       "    }\n",
       "</style>\n",
       "<table border=\"1\" class=\"dataframe\">\n",
       "  <thead>\n",
       "    <tr style=\"text-align: right;\">\n",
       "      <th></th>\n",
       "      <th>STD_YM</th>\n",
       "      <th>ADMI_CD</th>\n",
       "      <th>ADMI_NM</th>\n",
       "      <th>SEXDSTN_CD</th>\n",
       "      <th>AGRDE_CD</th>\n",
       "      <th>RSPOP_CNT</th>\n",
       "      <th>CTY_NM</th>\n",
       "    </tr>\n",
       "  </thead>\n",
       "  <tbody>\n",
       "    <tr>\n",
       "      <th>0</th>\n",
       "      <td>`201807`</td>\n",
       "      <td>`11230660`</td>\n",
       "      <td>`장안2동`</td>\n",
       "      <td>`1`</td>\n",
       "      <td>`0004`</td>\n",
       "      <td>`667`</td>\n",
       "      <td>`동대문구`</td>\n",
       "    </tr>\n",
       "    <tr>\n",
       "      <th>1</th>\n",
       "      <td>`201807`</td>\n",
       "      <td>`11590660`</td>\n",
       "      <td>`대방동`</td>\n",
       "      <td>`1`</td>\n",
       "      <td>`0004`</td>\n",
       "      <td>`599`</td>\n",
       "      <td>`동작구`</td>\n",
       "    </tr>\n",
       "    <tr>\n",
       "      <th>2</th>\n",
       "      <td>`201807`</td>\n",
       "      <td>`11170700`</td>\n",
       "      <td>`보광동`</td>\n",
       "      <td>`1`</td>\n",
       "      <td>`0004`</td>\n",
       "      <td>`156`</td>\n",
       "      <td>`용산구`</td>\n",
       "    </tr>\n",
       "    <tr>\n",
       "      <th>3</th>\n",
       "      <td>`201807`</td>\n",
       "      <td>`11290525`</td>\n",
       "      <td>`성북동`</td>\n",
       "      <td>`1`</td>\n",
       "      <td>`0004`</td>\n",
       "      <td>`210`</td>\n",
       "      <td>`성북구`</td>\n",
       "    </tr>\n",
       "    <tr>\n",
       "      <th>4</th>\n",
       "      <td>`201807`</td>\n",
       "      <td>`11620585`</td>\n",
       "      <td>`낙성대동`</td>\n",
       "      <td>`1`</td>\n",
       "      <td>`0004`</td>\n",
       "      <td>`228`</td>\n",
       "      <td>`관악구`</td>\n",
       "    </tr>\n",
       "  </tbody>\n",
       "</table>\n",
       "</div>"
      ],
      "text/plain": [
       "     STD_YM     ADMI_CD ADMI_NM SEXDSTN_CD AGRDE_CD RSPOP_CNT  CTY_NM\n",
       "0  `201807`  `11230660`  `장안2동`        `1`   `0004`     `667`  `동대문구`\n",
       "1  `201807`  `11590660`   `대방동`        `1`   `0004`     `599`   `동작구`\n",
       "2  `201807`  `11170700`   `보광동`        `1`   `0004`     `156`   `용산구`\n",
       "3  `201807`  `11290525`   `성북동`        `1`   `0004`     `210`   `성북구`\n",
       "4  `201807`  `11620585`  `낙성대동`        `1`   `0004`     `228`   `관악구`"
      ]
     },
     "execution_count": 3,
     "metadata": {},
     "output_type": "execute_result"
    }
   ],
   "source": [
    "dt = pd.read_table('./data/TB_T_RSPOP_ADMI.txt',sep='|')\n",
    "dt.columns = ['STD_YM', 'ADMI_CD', 'ADMI_NM', 'SEXDSTN_CD', 'AGRDE_CD', 'RSPOP_CNT', 'CTY_NM']\n",
    "dt.head()"
   ]
  },
  {
   "cell_type": "markdown",
   "id": "d7b3941d",
   "metadata": {},
   "source": [
    "* STD_YM: 기준년월\n",
    "* ADMI_CD: 행정동코드 8자리\n",
    "* ADMI_NM: 행정동명\n",
    "* SEXDSTN_CD: 성별 코드 (1=남, 2=여) \n",
    "* AGRDE_CD: 연령대 코드 \n",
    "* RSPOP_CNT: 거주인구 수\n",
    "* CTY_NM: 시군구명"
   ]
  },
  {
   "cell_type": "code",
   "execution_count": 4,
   "id": "1e6f6763",
   "metadata": {},
   "outputs": [
    {
     "data": {
      "text/plain": [
       "14     `201112`\n",
       "15     `201201`\n",
       "1      `201202`\n",
       "16     `201203`\n",
       "17     `201204`\n",
       "         ...   \n",
       "110    `202102`\n",
       "111    `202104`\n",
       "112    `202105`\n",
       "113    `202106`\n",
       "114    `202107`\n",
       "Length: 115, dtype: object"
      ]
     },
     "execution_count": 4,
     "metadata": {},
     "output_type": "execute_result"
    }
   ],
   "source": [
    "pd.Series(dt['STD_YM'].unique()).sort_values()"
   ]
  },
  {
   "cell_type": "markdown",
   "id": "6943bb1e",
   "metadata": {},
   "source": [
    "**2011년 12월부터 2021년 7월까지 총 (1+12*9+7) = 116 이어야 하는데 왜 115일까?  \n",
    "2021년 3월 데이터가 없음 시발..** "
   ]
  },
  {
   "cell_type": "code",
   "execution_count": 5,
   "id": "d5ee06bb",
   "metadata": {},
   "outputs": [
    {
     "data": {
      "text/html": [
       "<div>\n",
       "<style scoped>\n",
       "    .dataframe tbody tr th:only-of-type {\n",
       "        vertical-align: middle;\n",
       "    }\n",
       "\n",
       "    .dataframe tbody tr th {\n",
       "        vertical-align: top;\n",
       "    }\n",
       "\n",
       "    .dataframe thead th {\n",
       "        text-align: right;\n",
       "    }\n",
       "</style>\n",
       "<table border=\"1\" class=\"dataframe\">\n",
       "  <thead>\n",
       "    <tr style=\"text-align: right;\">\n",
       "      <th></th>\n",
       "      <th>STD_YM</th>\n",
       "      <th>ADMI_CD</th>\n",
       "      <th>ADMI_NM</th>\n",
       "      <th>SEXDSTN_CD</th>\n",
       "      <th>AGRDE_CD</th>\n",
       "      <th>RSPOP_CNT</th>\n",
       "      <th>CTY_NM</th>\n",
       "    </tr>\n",
       "  </thead>\n",
       "  <tbody>\n",
       "  </tbody>\n",
       "</table>\n",
       "</div>"
      ],
      "text/plain": [
       "Empty DataFrame\n",
       "Columns: [STD_YM, ADMI_CD, ADMI_NM, SEXDSTN_CD, AGRDE_CD, RSPOP_CNT, CTY_NM]\n",
       "Index: []"
      ]
     },
     "execution_count": 5,
     "metadata": {},
     "output_type": "execute_result"
    }
   ],
   "source": [
    "why_115 = dt[dt['STD_YM']==202103]\n",
    "why_115"
   ]
  },
  {
   "cell_type": "code",
   "execution_count": 6,
   "id": "22d3040b",
   "metadata": {},
   "outputs": [
    {
     "name": "stdout",
     "output_type": "stream",
     "text": [
      "<class 'pandas.core.frame.DataFrame'>\n",
      "RangeIndex: 2046404 entries, 0 to 2046403\n",
      "Data columns (total 7 columns):\n",
      " #   Column      Dtype \n",
      "---  ------      ----- \n",
      " 0   STD_YM      object\n",
      " 1   ADMI_CD     object\n",
      " 2   ADMI_NM     object\n",
      " 3   SEXDSTN_CD  object\n",
      " 4   AGRDE_CD    object\n",
      " 5   RSPOP_CNT   object\n",
      " 6   CTY_NM      object\n",
      "dtypes: object(7)\n",
      "memory usage: 109.3+ MB\n"
     ]
    }
   ],
   "source": [
    "dt.info()"
   ]
  },
  {
   "cell_type": "code",
   "execution_count": 7,
   "id": "946af551",
   "metadata": {},
   "outputs": [
    {
     "data": {
      "text/plain": [
       "`1`    1023202\n",
       "`2`    1023202\n",
       "Name: SEXDSTN_CD, dtype: int64"
      ]
     },
     "execution_count": 7,
     "metadata": {},
     "output_type": "execute_result"
    }
   ],
   "source": [
    "dt['SEXDSTN_CD'].value_counts()  # 성별 1=남 2=여"
   ]
  },
  {
   "cell_type": "code",
   "execution_count": 8,
   "id": "a315a755",
   "metadata": {},
   "outputs": [
    {
     "data": {
      "text/plain": [
       "`9599`    97448\n",
       "`1014`    97448\n",
       "`6064`    97448\n",
       "`2529`    97448\n",
       "`3034`    97448\n",
       "`6569`    97448\n",
       "`3539`    97448\n",
       "`2024`    97448\n",
       "`7074`    97448\n",
       "`0509`    97448\n",
       "`8084`    97448\n",
       "`1519`    97448\n",
       "`4549`    97448\n",
       "`9094`    97448\n",
       "`5559`    97448\n",
       "`5054`    97448\n",
       "`4044`    97448\n",
       "`8589`    97448\n",
       "`7579`    97448\n",
       "`0004`    97444\n",
       "`9999`    50810\n",
       "`I00`     46638\n",
       "Name: AGRDE_CD, dtype: int64"
      ]
     },
     "execution_count": 8,
     "metadata": {},
     "output_type": "execute_result"
    }
   ],
   "source": [
    "dt['AGRDE_CD'].value_counts()  # 연령을 5살 기준으로 나눈 코드 (총 22가지)"
   ]
  },
  {
   "cell_type": "markdown",
   "id": "50272fff",
   "metadata": {},
   "source": [
    "#### 성별 / 연령이 필요할까?  일단 제거  \n",
    "42가지 경우의 수 제거됨 "
   ]
  },
  {
   "cell_type": "code",
   "execution_count": 9,
   "id": "d1f26a08",
   "metadata": {},
   "outputs": [
    {
     "data": {
      "text/html": [
       "<div>\n",
       "<style scoped>\n",
       "    .dataframe tbody tr th:only-of-type {\n",
       "        vertical-align: middle;\n",
       "    }\n",
       "\n",
       "    .dataframe tbody tr th {\n",
       "        vertical-align: top;\n",
       "    }\n",
       "\n",
       "    .dataframe thead th {\n",
       "        text-align: right;\n",
       "    }\n",
       "</style>\n",
       "<table border=\"1\" class=\"dataframe\">\n",
       "  <thead>\n",
       "    <tr style=\"text-align: right;\">\n",
       "      <th></th>\n",
       "      <th>STD_YM</th>\n",
       "      <th>ADMI_CD</th>\n",
       "      <th>ADMI_NM</th>\n",
       "      <th>RSPOP_CNT</th>\n",
       "      <th>CTY_NM</th>\n",
       "    </tr>\n",
       "  </thead>\n",
       "  <tbody>\n",
       "    <tr>\n",
       "      <th>0</th>\n",
       "      <td>`201807`</td>\n",
       "      <td>`11230660`</td>\n",
       "      <td>`장안2동`</td>\n",
       "      <td>`667`</td>\n",
       "      <td>`동대문구`</td>\n",
       "    </tr>\n",
       "    <tr>\n",
       "      <th>1</th>\n",
       "      <td>`201807`</td>\n",
       "      <td>`11590660`</td>\n",
       "      <td>`대방동`</td>\n",
       "      <td>`599`</td>\n",
       "      <td>`동작구`</td>\n",
       "    </tr>\n",
       "    <tr>\n",
       "      <th>2</th>\n",
       "      <td>`201807`</td>\n",
       "      <td>`11170700`</td>\n",
       "      <td>`보광동`</td>\n",
       "      <td>`156`</td>\n",
       "      <td>`용산구`</td>\n",
       "    </tr>\n",
       "    <tr>\n",
       "      <th>3</th>\n",
       "      <td>`201807`</td>\n",
       "      <td>`11290525`</td>\n",
       "      <td>`성북동`</td>\n",
       "      <td>`210`</td>\n",
       "      <td>`성북구`</td>\n",
       "    </tr>\n",
       "    <tr>\n",
       "      <th>4</th>\n",
       "      <td>`201807`</td>\n",
       "      <td>`11620585`</td>\n",
       "      <td>`낙성대동`</td>\n",
       "      <td>`228`</td>\n",
       "      <td>`관악구`</td>\n",
       "    </tr>\n",
       "  </tbody>\n",
       "</table>\n",
       "</div>"
      ],
      "text/plain": [
       "     STD_YM     ADMI_CD ADMI_NM RSPOP_CNT  CTY_NM\n",
       "0  `201807`  `11230660`  `장안2동`     `667`  `동대문구`\n",
       "1  `201807`  `11590660`   `대방동`     `599`   `동작구`\n",
       "2  `201807`  `11170700`   `보광동`     `156`   `용산구`\n",
       "3  `201807`  `11290525`   `성북동`     `210`   `성북구`\n",
       "4  `201807`  `11620585`  `낙성대동`     `228`   `관악구`"
      ]
     },
     "execution_count": 9,
     "metadata": {},
     "output_type": "execute_result"
    }
   ],
   "source": [
    "dt = dt.drop(['SEXDSTN_CD', 'AGRDE_CD'], axis=1)\n",
    "dt.head()"
   ]
  },
  {
   "cell_type": "markdown",
   "id": "e93f31a7",
   "metadata": {},
   "source": [
    "#### 양 옆의 따옴표 다 제거"
   ]
  },
  {
   "cell_type": "code",
   "execution_count": 10,
   "id": "84c5b7d8",
   "metadata": {},
   "outputs": [],
   "source": [
    "# dt = dt.apply(lambda x: x.str.strip('`'), axis = 1)   >>> 너무 오래 걸려서 혹시나 코드 돌려볼 때 방해될까봐 주석처리 "
   ]
  },
  {
   "cell_type": "code",
   "execution_count": 21,
   "id": "7c82b16c",
   "metadata": {},
   "outputs": [],
   "source": [
    "# dt['RSPOP_CNT'] = pd.to_numeric(dt['RSPOP_CNT'])\n",
    "# dt.info()"
   ]
  },
  {
   "cell_type": "markdown",
   "id": "927f3743",
   "metadata": {},
   "source": [
    "#### 따옴표 제거하여 저장"
   ]
  },
  {
   "cell_type": "code",
   "execution_count": 12,
   "id": "f8af6004",
   "metadata": {},
   "outputs": [],
   "source": [
    "# dt.to_csv('TB_T_RSPOP_ADMI_processed.txt', sep=',', index=False)  >>> 전처리한 데이터 따로 저장 "
   ]
  },
  {
   "cell_type": "markdown",
   "id": "49999abb",
   "metadata": {},
   "source": [
    "---"
   ]
  },
  {
   "cell_type": "markdown",
   "id": "af4ba762",
   "metadata": {},
   "source": [
    "### 전처리한 데이터로 다시 open"
   ]
  },
  {
   "cell_type": "code",
   "execution_count": 26,
   "id": "a129d09c",
   "metadata": {},
   "outputs": [
    {
     "data": {
      "text/html": [
       "<div>\n",
       "<style scoped>\n",
       "    .dataframe tbody tr th:only-of-type {\n",
       "        vertical-align: middle;\n",
       "    }\n",
       "\n",
       "    .dataframe tbody tr th {\n",
       "        vertical-align: top;\n",
       "    }\n",
       "\n",
       "    .dataframe thead th {\n",
       "        text-align: right;\n",
       "    }\n",
       "</style>\n",
       "<table border=\"1\" class=\"dataframe\">\n",
       "  <thead>\n",
       "    <tr style=\"text-align: right;\">\n",
       "      <th></th>\n",
       "      <th>STD_YM</th>\n",
       "      <th>ADMI_CD</th>\n",
       "      <th>ADMI_NM</th>\n",
       "      <th>RSPOP_CNT</th>\n",
       "      <th>CTY_NM</th>\n",
       "    </tr>\n",
       "  </thead>\n",
       "  <tbody>\n",
       "    <tr>\n",
       "      <th>0</th>\n",
       "      <td>201807</td>\n",
       "      <td>11230660</td>\n",
       "      <td>장안2동</td>\n",
       "      <td>667</td>\n",
       "      <td>동대문구</td>\n",
       "    </tr>\n",
       "    <tr>\n",
       "      <th>1</th>\n",
       "      <td>201807</td>\n",
       "      <td>11590660</td>\n",
       "      <td>대방동</td>\n",
       "      <td>599</td>\n",
       "      <td>동작구</td>\n",
       "    </tr>\n",
       "    <tr>\n",
       "      <th>2</th>\n",
       "      <td>201807</td>\n",
       "      <td>11170700</td>\n",
       "      <td>보광동</td>\n",
       "      <td>156</td>\n",
       "      <td>용산구</td>\n",
       "    </tr>\n",
       "    <tr>\n",
       "      <th>3</th>\n",
       "      <td>201807</td>\n",
       "      <td>11290525</td>\n",
       "      <td>성북동</td>\n",
       "      <td>210</td>\n",
       "      <td>성북구</td>\n",
       "    </tr>\n",
       "    <tr>\n",
       "      <th>4</th>\n",
       "      <td>201807</td>\n",
       "      <td>11620585</td>\n",
       "      <td>낙성대동</td>\n",
       "      <td>228</td>\n",
       "      <td>관악구</td>\n",
       "    </tr>\n",
       "  </tbody>\n",
       "</table>\n",
       "</div>"
      ],
      "text/plain": [
       "   STD_YM   ADMI_CD ADMI_NM  RSPOP_CNT CTY_NM\n",
       "0  201807  11230660    장안2동        667   동대문구\n",
       "1  201807  11590660     대방동        599    동작구\n",
       "2  201807  11170700     보광동        156    용산구\n",
       "3  201807  11290525     성북동        210    성북구\n",
       "4  201807  11620585    낙성대동        228    관악구"
      ]
     },
     "execution_count": 26,
     "metadata": {},
     "output_type": "execute_result"
    }
   ],
   "source": [
    "dt = pd.read_table('./data/TB_T_RSPOP_ADMI_processed.txt',sep=',')\n",
    "dt.head()"
   ]
  },
  {
   "cell_type": "code",
   "execution_count": 27,
   "id": "bc435ab0",
   "metadata": {},
   "outputs": [
    {
     "data": {
      "text/plain": [
       "(2046404, 5)"
      ]
     },
     "execution_count": 27,
     "metadata": {},
     "output_type": "execute_result"
    }
   ],
   "source": [
    "dt.shape"
   ]
  },
  {
   "cell_type": "markdown",
   "id": "d57eaf69",
   "metadata": {},
   "source": [
    "### 일단 2021년 7월 따로 저장해두기"
   ]
  },
  {
   "cell_type": "code",
   "execution_count": 34,
   "id": "886176ab",
   "metadata": {},
   "outputs": [
    {
     "data": {
      "text/plain": [
       "array([202107])"
      ]
     },
     "execution_count": 34,
     "metadata": {},
     "output_type": "execute_result"
    }
   ],
   "source": [
    "dt_2107 = dt[dt['STD_YM']==202107]\n",
    "dt_2107['STD_YM'].unique()"
   ]
  },
  {
   "cell_type": "code",
   "execution_count": 36,
   "id": "2fae36e0",
   "metadata": {},
   "outputs": [
    {
     "name": "stdout",
     "output_type": "stream",
     "text": [
      "(17766, 5)\n"
     ]
    },
    {
     "data": {
      "text/html": [
       "<div>\n",
       "<style scoped>\n",
       "    .dataframe tbody tr th:only-of-type {\n",
       "        vertical-align: middle;\n",
       "    }\n",
       "\n",
       "    .dataframe tbody tr th {\n",
       "        vertical-align: top;\n",
       "    }\n",
       "\n",
       "    .dataframe thead th {\n",
       "        text-align: right;\n",
       "    }\n",
       "</style>\n",
       "<table border=\"1\" class=\"dataframe\">\n",
       "  <thead>\n",
       "    <tr style=\"text-align: right;\">\n",
       "      <th></th>\n",
       "      <th>STD_YM</th>\n",
       "      <th>ADMI_CD</th>\n",
       "      <th>ADMI_NM</th>\n",
       "      <th>RSPOP_CNT</th>\n",
       "      <th>CTY_NM</th>\n",
       "    </tr>\n",
       "  </thead>\n",
       "  <tbody>\n",
       "    <tr>\n",
       "      <th>0</th>\n",
       "      <td>202107</td>\n",
       "      <td>11200540</td>\n",
       "      <td>마장동</td>\n",
       "      <td>265</td>\n",
       "      <td>성동구</td>\n",
       "    </tr>\n",
       "    <tr>\n",
       "      <th>1</th>\n",
       "      <td>202107</td>\n",
       "      <td>11290555</td>\n",
       "      <td>삼선동</td>\n",
       "      <td>205</td>\n",
       "      <td>성북구</td>\n",
       "    </tr>\n",
       "    <tr>\n",
       "      <th>2</th>\n",
       "      <td>202107</td>\n",
       "      <td>11545510</td>\n",
       "      <td>가산동</td>\n",
       "      <td>177</td>\n",
       "      <td>금천구</td>\n",
       "    </tr>\n",
       "    <tr>\n",
       "      <th>3</th>\n",
       "      <td>202107</td>\n",
       "      <td>11560605</td>\n",
       "      <td>문래동</td>\n",
       "      <td>769</td>\n",
       "      <td>영등포구</td>\n",
       "    </tr>\n",
       "    <tr>\n",
       "      <th>4</th>\n",
       "      <td>202107</td>\n",
       "      <td>11470560</td>\n",
       "      <td>신월1동</td>\n",
       "      <td>215</td>\n",
       "      <td>양천구</td>\n",
       "    </tr>\n",
       "  </tbody>\n",
       "</table>\n",
       "</div>"
      ],
      "text/plain": [
       "   STD_YM   ADMI_CD ADMI_NM  RSPOP_CNT CTY_NM\n",
       "0  202107  11200540     마장동        265    성동구\n",
       "1  202107  11290555     삼선동        205    성북구\n",
       "2  202107  11545510     가산동        177    금천구\n",
       "3  202107  11560605     문래동        769   영등포구\n",
       "4  202107  11470560    신월1동        215    양천구"
      ]
     },
     "execution_count": 36,
     "metadata": {},
     "output_type": "execute_result"
    }
   ],
   "source": [
    "dt_new = dt_2107.reset_index(drop=True)\n",
    "print(dt_new.shape)\n",
    "dt_new.head()"
   ]
  },
  {
   "cell_type": "code",
   "execution_count": 37,
   "id": "e5813422",
   "metadata": {},
   "outputs": [],
   "source": [
    "# dt_new.to_csv('TB_T_RSPOP_ADMI_2107.txt', sep = ',', index = False)"
   ]
  },
  {
   "cell_type": "markdown",
   "id": "8d3eb7a9",
   "metadata": {},
   "source": [
    "---"
   ]
  },
  {
   "cell_type": "code",
   "execution_count": 32,
   "id": "850d766d",
   "metadata": {},
   "outputs": [
    {
     "name": "stdout",
     "output_type": "stream",
     "text": [
      "(48724, 5)\n"
     ]
    },
    {
     "data": {
      "text/html": [
       "<div>\n",
       "<style scoped>\n",
       "    .dataframe tbody tr th:only-of-type {\n",
       "        vertical-align: middle;\n",
       "    }\n",
       "\n",
       "    .dataframe tbody tr th {\n",
       "        vertical-align: top;\n",
       "    }\n",
       "\n",
       "    .dataframe thead th {\n",
       "        text-align: right;\n",
       "    }\n",
       "</style>\n",
       "<table border=\"1\" class=\"dataframe\">\n",
       "  <thead>\n",
       "    <tr style=\"text-align: right;\">\n",
       "      <th></th>\n",
       "      <th>STD_YM</th>\n",
       "      <th>ADMI_CD</th>\n",
       "      <th>ADMI_NM</th>\n",
       "      <th>CTY_NM</th>\n",
       "      <th>RSPOP_CNT</th>\n",
       "    </tr>\n",
       "  </thead>\n",
       "  <tbody>\n",
       "    <tr>\n",
       "      <th>0</th>\n",
       "      <td>201112</td>\n",
       "      <td>11110515</td>\n",
       "      <td>청운효자동</td>\n",
       "      <td>종로구</td>\n",
       "      <td>15260</td>\n",
       "    </tr>\n",
       "    <tr>\n",
       "      <th>1</th>\n",
       "      <td>201112</td>\n",
       "      <td>11110530</td>\n",
       "      <td>사직동</td>\n",
       "      <td>종로구</td>\n",
       "      <td>10150</td>\n",
       "    </tr>\n",
       "    <tr>\n",
       "      <th>2</th>\n",
       "      <td>201112</td>\n",
       "      <td>11110540</td>\n",
       "      <td>삼청동</td>\n",
       "      <td>종로구</td>\n",
       "      <td>3415</td>\n",
       "    </tr>\n",
       "    <tr>\n",
       "      <th>3</th>\n",
       "      <td>201112</td>\n",
       "      <td>11110550</td>\n",
       "      <td>부암동</td>\n",
       "      <td>종로구</td>\n",
       "      <td>11369</td>\n",
       "    </tr>\n",
       "    <tr>\n",
       "      <th>4</th>\n",
       "      <td>201112</td>\n",
       "      <td>11110560</td>\n",
       "      <td>평창동</td>\n",
       "      <td>종로구</td>\n",
       "      <td>19677</td>\n",
       "    </tr>\n",
       "  </tbody>\n",
       "</table>\n",
       "</div>"
      ],
      "text/plain": [
       "   STD_YM   ADMI_CD ADMI_NM CTY_NM  RSPOP_CNT\n",
       "0  201112  11110515   청운효자동    종로구      15260\n",
       "1  201112  11110530     사직동    종로구      10150\n",
       "2  201112  11110540     삼청동    종로구       3415\n",
       "3  201112  11110550     부암동    종로구      11369\n",
       "4  201112  11110560     평창동    종로구      19677"
      ]
     },
     "execution_count": 32,
     "metadata": {},
     "output_type": "execute_result"
    }
   ],
   "source": [
    "data = dt.groupby(['STD_YM', 'ADMI_CD', 'ADMI_NM', 'CTY_NM'])\n",
    "grouped = data.sum('RSPOP_CNT')\n",
    "grouped = grouped.reset_index()\n",
    "print(grouped.shape)\n",
    "grouped.head()"
   ]
  },
  {
   "cell_type": "code",
   "execution_count": 31,
   "id": "6a753f0d",
   "metadata": {},
   "outputs": [
    {
     "data": {
      "text/plain": [
       "41.999917904933916"
      ]
     },
     "execution_count": 31,
     "metadata": {},
     "output_type": "execute_result"
    }
   ],
   "source": [
    "dt.shape[0] / grouped.shape[0]"
   ]
  },
  {
   "cell_type": "markdown",
   "id": "2ed1ba9a",
   "metadata": {},
   "source": [
    "약 42 = 성별 2가지 * 연령 22가지 (연령 구분 2가지가 없는 경우도 있어서)"
   ]
  },
  {
   "cell_type": "code",
   "execution_count": 16,
   "id": "e0444007",
   "metadata": {},
   "outputs": [
    {
     "data": {
      "text/plain": [
       "신사동      230\n",
       "쌍문3동     115\n",
       "창1동      115\n",
       "목3동      115\n",
       "노량진1동    115\n",
       "        ... \n",
       "신당4동      19\n",
       "신당6동      19\n",
       "신당3동      19\n",
       "신당1동      19\n",
       "명륜3가동      8\n",
       "Name: ADMI_NM, Length: 429, dtype: int64"
      ]
     },
     "execution_count": 16,
     "metadata": {},
     "output_type": "execute_result"
    }
   ],
   "source": [
    "grouped['ADMI_NM'].value_counts() "
   ]
  },
  {
   "cell_type": "markdown",
   "id": "6e777b3f",
   "metadata": {},
   "source": [
    "명륜3가동 등 너무 적어서 뭐지 싶었는데  \n",
    "원본 데이터의 명륜3가동 row 수가 336으로 8 * 42 로 맞아 떨어지는 것으로 보아  \n",
    "새로 생긴 행정동 이름인 듯"
   ]
  },
  {
   "cell_type": "code",
   "execution_count": 18,
   "id": "e9fc2463",
   "metadata": {},
   "outputs": [
    {
     "data": {
      "text/plain": [
       "신사동      230\n",
       "쌍문3동     115\n",
       "창1동      115\n",
       "목3동      115\n",
       "노량진1동    115\n",
       "Name: ADMI_NM, dtype: int64"
      ]
     },
     "execution_count": 18,
     "metadata": {},
     "output_type": "execute_result"
    }
   ],
   "source": [
    "grouped['ADMI_NM'].value_counts().head()"
   ]
  },
  {
   "cell_type": "code",
   "execution_count": 19,
   "id": "372c1c42",
   "metadata": {},
   "outputs": [
    {
     "data": {
      "text/plain": [
       "array(['청운효자동', '사직동', '삼청동', '부암동', '평창동', '무악동', '교남동', '가회동',\n",
       "       '종로1.2.3.4가동', '종로5.6가동', '이화동', '혜화동', '명륜3가동', '창신1동', '창신2동',\n",
       "       '창신3동', '숭인1동', '숭인2동', '소공동', '회현동', '명동', '필동', '장충동', '광희동',\n",
       "       '을지로동', '신당1동', '신당2동', '신당3동', '신당4동', '신당5동', '신당6동', '황학동',\n",
       "       '중림동', '후암동', '용산2가동', '남영동', '청파동', '원효로1동', '원효로2동', '효창동',\n",
       "       '용문동', '한강로동', '이촌1동', '이촌2동', '이태원1동', '이태원2동', '한남동', '서빙고동',\n",
       "       '보광동', '왕십리2동', '왕십리도선동', '마장동', '사근동', '행당1동', '행당2동', '응봉동',\n",
       "       '금호1가동', '금호2.3가동', '금호4가동', '옥수동', '성수1가1동', '성수1가2동', '성수2가1동',\n",
       "       '성수2가3동', '송정동', '용답동', '화양동', '군자동', '중곡1동', '중곡2동', '중곡3동',\n",
       "       '중곡4동', '능동', '광장동', '자양1동', '자양2동', '자양3동', '자양4동', '구의1동',\n",
       "       '구의2동', '구의3동', '용신동', '제기동', '전농1동', '전농2동', '답십리1동', '답십리2동',\n",
       "       '장안1동', '장안2동', '청량리동', '회기동', '휘경1동', '휘경2동', '이문1동', '이문2동',\n",
       "       '면목2동', '면목4동', '면목5동', '면목본동', '면목7동', '면목3.8동', '상봉1동', '상봉2동',\n",
       "       '중화1동', '중화2동', '묵1동', '묵2동', '망우본동', '망우3동', '신내1동', '신내2동',\n",
       "       '성북동', '삼선동', '동선동', '돈암1동', '돈암2동', '안암동', '보문동', '정릉1동', '정릉2동',\n",
       "       '정릉3동', '정릉4동', '길음1동', '길음2동', '종암동', '월곡1동', '월곡2동', '장위1동',\n",
       "       '장위2동', '장위3동', '석관동', '삼양동', '미아동', '송중동', '송천동', '삼각산동', '번1동',\n",
       "       '번2동', '번3동', '수유1동', '수유2동', '수유3동', '우이동', '인수동', '창1동', '창2동',\n",
       "       '창3동', '창4동', '창5동', '도봉1동', '도봉2동', '쌍문1동', '쌍문2동', '쌍문3동',\n",
       "       '쌍문4동', '방학1동', '방학2동', '방학3동', '월계1동', '월계2동', '월계3동', '공릉1동',\n",
       "       '공릉2동', '하계1동', '하계2동', '중계본동', '중계1동', '중계4동', '중계2.3동', '상계1동',\n",
       "       '상계2동', '상계3.4동', '상계5동', '상계6.7동', '상계8동', '상계9동', '상계10동', '녹번동',\n",
       "       '불광1동', '불광2동', '갈현1동', '갈현2동', '구산동', '대조동', '응암1동', '응암2동',\n",
       "       '응암3동', '역촌동', '신사1동', '신사2동', '증산동', '수색동', '진관동', '천연동', '북아현동',\n",
       "       '충현동', '신촌동', '연희동', '홍제1동', '홍제3동', '홍제2동', '홍은1동', '홍은2동',\n",
       "       '남가좌1동', '남가좌2동', '북가좌1동', '북가좌2동', '아현동', '공덕동', '도화동', '용강동',\n",
       "       '대흥동', '염리동', '신수동', '서강동', '서교동', '합정동', '망원1동', '망원2동', '연남동',\n",
       "       '성산1동', '성산2동', '상암동', '목1동', '목2동', '목3동', '목4동', '목5동', '신월1동',\n",
       "       '신월2동', '신월3동', '신월4동', '신월5동', '신월6동', '신월7동', '신정1동', '신정2동',\n",
       "       '신정3동', '신정4동', '신정6동', '신정7동', '염창동', '등촌1동', '등촌2동', '등촌3동',\n",
       "       '화곡1동', '화곡2동', '화곡3동', '화곡4동', '화곡본동', '화곡6동', '화곡8동', '가양1동',\n",
       "       '가양2동', '가양3동', '발산1동', '우장산동', '공항동', '방화1동', '방화2동', '방화3동',\n",
       "       '신도림동', '구로1동', '구로2동', '구로3동', '구로4동', '구로5동', '가리봉동', '고척1동',\n",
       "       '고척2동', '개봉1동', '개봉2동', '개봉3동', '오류1동', '오류2동', '수궁동', '가산동',\n",
       "       '독산1동', '독산2동', '독산3동', '독산4동', '시흥1동', '시흥2동', '시흥3동', '시흥4동',\n",
       "       '시흥5동', '영등포본동', '영등포동', '여의동', '당산1동', '당산2동', '도림동', '문래동',\n",
       "       '양평1동', '양평2동', '신길1동', '신길3동', '신길4동', '신길5동', '신길6동', '신길7동',\n",
       "       '대림1동', '대림2동', '대림3동', '노량진1동', '노량진2동', '상도1동', '상도2동', '상도3동',\n",
       "       '상도4동', '흑석동', '사당1동', '사당2동', '사당3동', '사당4동', '사당5동', '대방동',\n",
       "       '신대방1동', '신대방2동', '보라매동', '청림동', '성현동', '행운동', '낙성대동', '청룡동',\n",
       "       '은천동', '중앙동', '인헌동', '남현동', '서원동', '신원동', '서림동', '신사동', '신림동',\n",
       "       '난향동', '조원동', '대학동', '삼성동', '미성동', '난곡동', '서초1동', '서초2동', '서초3동',\n",
       "       '서초4동', '잠원동', '반포본동', '반포1동', '반포2동', '반포3동', '반포4동', '방배본동',\n",
       "       '방배1동', '방배2동', '방배3동', '방배4동', '양재1동', '양재2동', '내곡동', '논현1동',\n",
       "       '논현2동', '압구정동', '청담동', '삼성1동', '삼성2동', '대치1동', '대치2동', '대치4동',\n",
       "       '역삼1동', '역삼2동', '도곡1동', '도곡2동', '개포1동', '개포2동', '개포4동', '세곡동',\n",
       "       '일원본동', '일원1동', '일원2동', '수서동', '풍납1동', '풍납2동', '거여1동', '거여2동',\n",
       "       '마천1동', '마천2동', '방이1동', '방이2동', '오륜동', '오금동', '송파1동', '송파2동',\n",
       "       '석촌동', '삼전동', '가락본동', '가락1동', '가락2동', '문정1동', '문정2동', '장지동',\n",
       "       '잠실본동', '잠실2동', '잠실3동', '잠실4동', '잠실6동', '잠실7동', '강일동', '상일동',\n",
       "       '명일1동', '명일2동', '고덕1동', '고덕2동', '암사1동', '암사2동', '암사3동', '천호1동',\n",
       "       '천호2동', '천호3동', '성내1동', '성내2동', '성내3동', '길동', '둔촌1동', '둔촌2동',\n",
       "       '신당동', '다산동', '약수동', '청구동', '동화동', '위례동'], dtype=object)"
      ]
     },
     "execution_count": 19,
     "metadata": {},
     "output_type": "execute_result"
    }
   ],
   "source": [
    "grouped['ADMI_NM'].unique() "
   ]
  },
  {
   "cell_type": "markdown",
   "id": "eabf2ec0",
   "metadata": {},
   "source": [
    "'종로1.2.3.4가동', '종로5.6가동', '금호2.3가동', '중계2.3동', '상계3.4동' >>> 얘넨 뭐여"
   ]
  },
  {
   "cell_type": "code",
   "execution_count": 20,
   "id": "4cc995f5",
   "metadata": {},
   "outputs": [
    {
     "name": "stderr",
     "output_type": "stream",
     "text": [
      "/Users/kimmh/opt/anaconda3/lib/python3.8/site-packages/pandas/core/strings/accessor.py:101: UserWarning: This pattern has match groups. To actually get the groups, use str.extract.\n",
      "  return func(self, *args, **kwargs)\n"
     ]
    },
    {
     "data": {
      "text/html": [
       "<div>\n",
       "<style scoped>\n",
       "    .dataframe tbody tr th:only-of-type {\n",
       "        vertical-align: middle;\n",
       "    }\n",
       "\n",
       "    .dataframe tbody tr th {\n",
       "        vertical-align: top;\n",
       "    }\n",
       "\n",
       "    .dataframe thead th {\n",
       "        text-align: right;\n",
       "    }\n",
       "</style>\n",
       "<table border=\"1\" class=\"dataframe\">\n",
       "  <thead>\n",
       "    <tr style=\"text-align: right;\">\n",
       "      <th></th>\n",
       "      <th>STD_YM</th>\n",
       "      <th>ADMI_CD</th>\n",
       "      <th>ADMI_NM</th>\n",
       "      <th>CTY_NM</th>\n",
       "      <th>RSPOP_CNT</th>\n",
       "    </tr>\n",
       "  </thead>\n",
       "  <tbody>\n",
       "    <tr>\n",
       "      <th>8</th>\n",
       "      <td>201112</td>\n",
       "      <td>11110615</td>\n",
       "      <td>종로1.2.3.4가동</td>\n",
       "      <td>종로구</td>\n",
       "      <td>7923</td>\n",
       "    </tr>\n",
       "    <tr>\n",
       "      <th>9</th>\n",
       "      <td>201112</td>\n",
       "      <td>11110630</td>\n",
       "      <td>종로5.6가동</td>\n",
       "      <td>종로구</td>\n",
       "      <td>6156</td>\n",
       "    </tr>\n",
       "    <tr>\n",
       "      <th>432</th>\n",
       "      <td>201201</td>\n",
       "      <td>11110615</td>\n",
       "      <td>종로1.2.3.4가동</td>\n",
       "      <td>종로구</td>\n",
       "      <td>7957</td>\n",
       "    </tr>\n",
       "    <tr>\n",
       "      <th>433</th>\n",
       "      <td>201201</td>\n",
       "      <td>11110630</td>\n",
       "      <td>종로5.6가동</td>\n",
       "      <td>종로구</td>\n",
       "      <td>6192</td>\n",
       "    </tr>\n",
       "    <tr>\n",
       "      <th>856</th>\n",
       "      <td>201202</td>\n",
       "      <td>11110615</td>\n",
       "      <td>종로1.2.3.4가동</td>\n",
       "      <td>종로구</td>\n",
       "      <td>7943</td>\n",
       "    </tr>\n",
       "    <tr>\n",
       "      <th>...</th>\n",
       "      <td>...</td>\n",
       "      <td>...</td>\n",
       "      <td>...</td>\n",
       "      <td>...</td>\n",
       "      <td>...</td>\n",
       "    </tr>\n",
       "    <tr>\n",
       "      <th>47462</th>\n",
       "      <td>202105</td>\n",
       "      <td>11110630</td>\n",
       "      <td>종로5.6가동</td>\n",
       "      <td>종로구</td>\n",
       "      <td>5243</td>\n",
       "    </tr>\n",
       "    <tr>\n",
       "      <th>47885</th>\n",
       "      <td>202106</td>\n",
       "      <td>11110615</td>\n",
       "      <td>종로1.2.3.4가동</td>\n",
       "      <td>종로구</td>\n",
       "      <td>7226</td>\n",
       "    </tr>\n",
       "    <tr>\n",
       "      <th>47886</th>\n",
       "      <td>202106</td>\n",
       "      <td>11110630</td>\n",
       "      <td>종로5.6가동</td>\n",
       "      <td>종로구</td>\n",
       "      <td>5150</td>\n",
       "    </tr>\n",
       "    <tr>\n",
       "      <th>48309</th>\n",
       "      <td>202107</td>\n",
       "      <td>11110615</td>\n",
       "      <td>종로1.2.3.4가동</td>\n",
       "      <td>종로구</td>\n",
       "      <td>7204</td>\n",
       "    </tr>\n",
       "    <tr>\n",
       "      <th>48310</th>\n",
       "      <td>202107</td>\n",
       "      <td>11110630</td>\n",
       "      <td>종로5.6가동</td>\n",
       "      <td>종로구</td>\n",
       "      <td>5121</td>\n",
       "    </tr>\n",
       "  </tbody>\n",
       "</table>\n",
       "<p>230 rows × 5 columns</p>\n",
       "</div>"
      ],
      "text/plain": [
       "       STD_YM   ADMI_CD      ADMI_NM CTY_NM  RSPOP_CNT\n",
       "8      201112  11110615  종로1.2.3.4가동    종로구       7923\n",
       "9      201112  11110630      종로5.6가동    종로구       6156\n",
       "432    201201  11110615  종로1.2.3.4가동    종로구       7957\n",
       "433    201201  11110630      종로5.6가동    종로구       6192\n",
       "856    201202  11110615  종로1.2.3.4가동    종로구       7943\n",
       "...       ...       ...          ...    ...        ...\n",
       "47462  202105  11110630      종로5.6가동    종로구       5243\n",
       "47885  202106  11110615  종로1.2.3.4가동    종로구       7226\n",
       "47886  202106  11110630      종로5.6가동    종로구       5150\n",
       "48309  202107  11110615  종로1.2.3.4가동    종로구       7204\n",
       "48310  202107  11110630      종로5.6가동    종로구       5121\n",
       "\n",
       "[230 rows x 5 columns]"
      ]
     },
     "execution_count": 20,
     "metadata": {},
     "output_type": "execute_result"
    }
   ],
   "source": [
    "grouped[grouped.ADMI_NM.str.contains(r'(종로)')]"
   ]
  },
  {
   "cell_type": "code",
   "execution_count": 38,
   "id": "982f7216",
   "metadata": {},
   "outputs": [
    {
     "data": {
      "text/html": [
       "<div>\n",
       "<style scoped>\n",
       "    .dataframe tbody tr th:only-of-type {\n",
       "        vertical-align: middle;\n",
       "    }\n",
       "\n",
       "    .dataframe tbody tr th {\n",
       "        vertical-align: top;\n",
       "    }\n",
       "\n",
       "    .dataframe thead th {\n",
       "        text-align: right;\n",
       "    }\n",
       "</style>\n",
       "<table border=\"1\" class=\"dataframe\">\n",
       "  <thead>\n",
       "    <tr style=\"text-align: right;\">\n",
       "      <th></th>\n",
       "      <th>STD_YM</th>\n",
       "      <th>ADMI_CD</th>\n",
       "      <th>ADMI_NM</th>\n",
       "      <th>CTY_NM</th>\n",
       "      <th>RSPOP_CNT</th>\n",
       "    </tr>\n",
       "  </thead>\n",
       "  <tbody>\n",
       "    <tr>\n",
       "      <th>45100</th>\n",
       "      <td>202010</td>\n",
       "      <td>11380690</td>\n",
       "      <td>진관동</td>\n",
       "      <td>은평구</td>\n",
       "      <td>114350</td>\n",
       "    </tr>\n",
       "    <tr>\n",
       "      <th>45153</th>\n",
       "      <td>202010</td>\n",
       "      <td>11500540</td>\n",
       "      <td>화곡1동</td>\n",
       "      <td>강서구</td>\n",
       "      <td>105096</td>\n",
       "    </tr>\n",
       "    <tr>\n",
       "      <th>45095</th>\n",
       "      <td>202010</td>\n",
       "      <td>11380625</td>\n",
       "      <td>역촌동</td>\n",
       "      <td>은평구</td>\n",
       "      <td>93542</td>\n",
       "    </tr>\n",
       "    <tr>\n",
       "      <th>45330</th>\n",
       "      <td>202010</td>\n",
       "      <td>11740685</td>\n",
       "      <td>길동</td>\n",
       "      <td>강동구</td>\n",
       "      <td>93282</td>\n",
       "    </tr>\n",
       "    <tr>\n",
       "      <th>45145</th>\n",
       "      <td>202010</td>\n",
       "      <td>11470640</td>\n",
       "      <td>신정3동</td>\n",
       "      <td>양천구</td>\n",
       "      <td>93266</td>\n",
       "    </tr>\n",
       "    <tr>\n",
       "      <th>...</th>\n",
       "      <td>...</td>\n",
       "      <td>...</td>\n",
       "      <td>...</td>\n",
       "      <td>...</td>\n",
       "      <td>...</td>\n",
       "    </tr>\n",
       "    <tr>\n",
       "      <th>47027</th>\n",
       "      <td>202102</td>\n",
       "      <td>11740690</td>\n",
       "      <td>둔촌1동</td>\n",
       "      <td>강동구</td>\n",
       "      <td>247</td>\n",
       "    </tr>\n",
       "    <tr>\n",
       "      <th>47451</th>\n",
       "      <td>202104</td>\n",
       "      <td>11740690</td>\n",
       "      <td>둔촌1동</td>\n",
       "      <td>강동구</td>\n",
       "      <td>134</td>\n",
       "    </tr>\n",
       "    <tr>\n",
       "      <th>48722</th>\n",
       "      <td>202107</td>\n",
       "      <td>11740690</td>\n",
       "      <td>둔촌1동</td>\n",
       "      <td>강동구</td>\n",
       "      <td>134</td>\n",
       "    </tr>\n",
       "    <tr>\n",
       "      <th>48299</th>\n",
       "      <td>202106</td>\n",
       "      <td>11740690</td>\n",
       "      <td>둔촌1동</td>\n",
       "      <td>강동구</td>\n",
       "      <td>134</td>\n",
       "    </tr>\n",
       "    <tr>\n",
       "      <th>47875</th>\n",
       "      <td>202105</td>\n",
       "      <td>11740690</td>\n",
       "      <td>둔촌1동</td>\n",
       "      <td>강동구</td>\n",
       "      <td>133</td>\n",
       "    </tr>\n",
       "  </tbody>\n",
       "</table>\n",
       "<p>48724 rows × 5 columns</p>\n",
       "</div>"
      ],
      "text/plain": [
       "       STD_YM   ADMI_CD ADMI_NM CTY_NM  RSPOP_CNT\n",
       "45100  202010  11380690     진관동    은평구     114350\n",
       "45153  202010  11500540    화곡1동    강서구     105096\n",
       "45095  202010  11380625     역촌동    은평구      93542\n",
       "45330  202010  11740685      길동    강동구      93282\n",
       "45145  202010  11470640    신정3동    양천구      93266\n",
       "...       ...       ...     ...    ...        ...\n",
       "47027  202102  11740690    둔촌1동    강동구        247\n",
       "47451  202104  11740690    둔촌1동    강동구        134\n",
       "48722  202107  11740690    둔촌1동    강동구        134\n",
       "48299  202106  11740690    둔촌1동    강동구        134\n",
       "47875  202105  11740690    둔촌1동    강동구        133\n",
       "\n",
       "[48724 rows x 5 columns]"
      ]
     },
     "execution_count": 38,
     "metadata": {},
     "output_type": "execute_result"
    }
   ],
   "source": [
    "grouped.sort_values(by='RSPOP_CNT', axis=0, ascending=False)"
   ]
  },
  {
   "cell_type": "markdown",
   "id": "386e8b06",
   "metadata": {},
   "source": [
    "* 둔촌1동 : 학교 3곳이랑 주공아파트 단지 뿐인데 이 주공아파트가 재건축 들어가서 저렇게 낮게 나옴 \n",
    "* 진관동 등등 : 네이버 지도 검색해보니 면적이 매우 큼 (특히 1,2,3... 이렇게 안 나뉜 곳들)"
   ]
  }
 ],
 "metadata": {
  "kernelspec": {
   "display_name": "Python 3",
   "language": "python",
   "name": "python3"
  },
  "language_info": {
   "codemirror_mode": {
    "name": "ipython",
    "version": 3
   },
   "file_extension": ".py",
   "mimetype": "text/x-python",
   "name": "python",
   "nbconvert_exporter": "python",
   "pygments_lexer": "ipython3",
   "version": "3.8.8"
  }
 },
 "nbformat": 4,
 "nbformat_minor": 5
}
